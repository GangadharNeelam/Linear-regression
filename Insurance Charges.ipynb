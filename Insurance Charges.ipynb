{
 "cells": [
  {
   "cell_type": "markdown",
   "id": "8e78cd90",
   "metadata": {},
   "source": [
    "#### Import Libraries"
   ]
  },
  {
   "cell_type": "code",
   "execution_count": 1,
   "id": "7ca772bb",
   "metadata": {},
   "outputs": [],
   "source": [
    "import numpy as np\n",
    "import os\n",
    "import pandas as pd\n",
    "import matplotlib.pyplot as plt\n",
    "import seaborn as sns\n",
    "import warnings\n",
    "warnings.filterwarnings('ignore')"
   ]
  },
  {
   "cell_type": "code",
   "execution_count": 2,
   "id": "e5ea0ff8",
   "metadata": {},
   "outputs": [
    {
     "data": {
      "text/plain": [
       "['.jovianrc',\n",
       " 'insurance.csv',\n",
       " 'Life Expectancy Data.csv',\n",
       " 'Life expectancy.ipynb']"
      ]
     },
     "execution_count": 2,
     "metadata": {},
     "output_type": "execute_result"
    }
   ],
   "source": [
    "os.chdir(r'C:\\Users\\ganga\\OneDrive\\Desktop\\Hackathon')\n",
    "os.listdir()"
   ]
  },
  {
   "cell_type": "raw",
   "id": "90357e17",
   "metadata": {},
   "source": []
  },
  {
   "cell_type": "markdown",
   "id": "d760b34d",
   "metadata": {},
   "source": [
    "#### Import data"
   ]
  },
  {
   "cell_type": "code",
   "execution_count": 3,
   "id": "70091327",
   "metadata": {},
   "outputs": [],
   "source": [
    "data = pd.read_csv('insurance.csv')"
   ]
  },
  {
   "cell_type": "code",
   "execution_count": 4,
   "id": "00284d31",
   "metadata": {},
   "outputs": [
    {
     "data": {
      "text/html": [
       "<div>\n",
       "<style scoped>\n",
       "    .dataframe tbody tr th:only-of-type {\n",
       "        vertical-align: middle;\n",
       "    }\n",
       "\n",
       "    .dataframe tbody tr th {\n",
       "        vertical-align: top;\n",
       "    }\n",
       "\n",
       "    .dataframe thead th {\n",
       "        text-align: right;\n",
       "    }\n",
       "</style>\n",
       "<table border=\"1\" class=\"dataframe\">\n",
       "  <thead>\n",
       "    <tr style=\"text-align: right;\">\n",
       "      <th></th>\n",
       "      <th>age</th>\n",
       "      <th>sex</th>\n",
       "      <th>bmi</th>\n",
       "      <th>children</th>\n",
       "      <th>smoker</th>\n",
       "      <th>region</th>\n",
       "      <th>charges</th>\n",
       "    </tr>\n",
       "  </thead>\n",
       "  <tbody>\n",
       "    <tr>\n",
       "      <th>0</th>\n",
       "      <td>19</td>\n",
       "      <td>female</td>\n",
       "      <td>27.900</td>\n",
       "      <td>0</td>\n",
       "      <td>yes</td>\n",
       "      <td>southwest</td>\n",
       "      <td>16884.92400</td>\n",
       "    </tr>\n",
       "    <tr>\n",
       "      <th>1</th>\n",
       "      <td>18</td>\n",
       "      <td>male</td>\n",
       "      <td>33.770</td>\n",
       "      <td>1</td>\n",
       "      <td>no</td>\n",
       "      <td>southeast</td>\n",
       "      <td>1725.55230</td>\n",
       "    </tr>\n",
       "    <tr>\n",
       "      <th>2</th>\n",
       "      <td>28</td>\n",
       "      <td>male</td>\n",
       "      <td>33.000</td>\n",
       "      <td>3</td>\n",
       "      <td>no</td>\n",
       "      <td>southeast</td>\n",
       "      <td>4449.46200</td>\n",
       "    </tr>\n",
       "    <tr>\n",
       "      <th>3</th>\n",
       "      <td>33</td>\n",
       "      <td>male</td>\n",
       "      <td>22.705</td>\n",
       "      <td>0</td>\n",
       "      <td>no</td>\n",
       "      <td>northwest</td>\n",
       "      <td>21984.47061</td>\n",
       "    </tr>\n",
       "    <tr>\n",
       "      <th>4</th>\n",
       "      <td>32</td>\n",
       "      <td>male</td>\n",
       "      <td>28.880</td>\n",
       "      <td>0</td>\n",
       "      <td>no</td>\n",
       "      <td>northwest</td>\n",
       "      <td>3866.85520</td>\n",
       "    </tr>\n",
       "    <tr>\n",
       "      <th>...</th>\n",
       "      <td>...</td>\n",
       "      <td>...</td>\n",
       "      <td>...</td>\n",
       "      <td>...</td>\n",
       "      <td>...</td>\n",
       "      <td>...</td>\n",
       "      <td>...</td>\n",
       "    </tr>\n",
       "    <tr>\n",
       "      <th>1333</th>\n",
       "      <td>50</td>\n",
       "      <td>male</td>\n",
       "      <td>30.970</td>\n",
       "      <td>3</td>\n",
       "      <td>no</td>\n",
       "      <td>northwest</td>\n",
       "      <td>10600.54830</td>\n",
       "    </tr>\n",
       "    <tr>\n",
       "      <th>1334</th>\n",
       "      <td>18</td>\n",
       "      <td>female</td>\n",
       "      <td>31.920</td>\n",
       "      <td>0</td>\n",
       "      <td>no</td>\n",
       "      <td>northeast</td>\n",
       "      <td>2205.98080</td>\n",
       "    </tr>\n",
       "    <tr>\n",
       "      <th>1335</th>\n",
       "      <td>18</td>\n",
       "      <td>female</td>\n",
       "      <td>36.850</td>\n",
       "      <td>0</td>\n",
       "      <td>no</td>\n",
       "      <td>southeast</td>\n",
       "      <td>1629.83350</td>\n",
       "    </tr>\n",
       "    <tr>\n",
       "      <th>1336</th>\n",
       "      <td>21</td>\n",
       "      <td>female</td>\n",
       "      <td>25.800</td>\n",
       "      <td>0</td>\n",
       "      <td>no</td>\n",
       "      <td>southwest</td>\n",
       "      <td>2007.94500</td>\n",
       "    </tr>\n",
       "    <tr>\n",
       "      <th>1337</th>\n",
       "      <td>61</td>\n",
       "      <td>female</td>\n",
       "      <td>29.070</td>\n",
       "      <td>0</td>\n",
       "      <td>yes</td>\n",
       "      <td>northwest</td>\n",
       "      <td>29141.36030</td>\n",
       "    </tr>\n",
       "  </tbody>\n",
       "</table>\n",
       "<p>1338 rows × 7 columns</p>\n",
       "</div>"
      ],
      "text/plain": [
       "      age     sex     bmi  children smoker     region      charges\n",
       "0      19  female  27.900         0    yes  southwest  16884.92400\n",
       "1      18    male  33.770         1     no  southeast   1725.55230\n",
       "2      28    male  33.000         3     no  southeast   4449.46200\n",
       "3      33    male  22.705         0     no  northwest  21984.47061\n",
       "4      32    male  28.880         0     no  northwest   3866.85520\n",
       "...   ...     ...     ...       ...    ...        ...          ...\n",
       "1333   50    male  30.970         3     no  northwest  10600.54830\n",
       "1334   18  female  31.920         0     no  northeast   2205.98080\n",
       "1335   18  female  36.850         0     no  southeast   1629.83350\n",
       "1336   21  female  25.800         0     no  southwest   2007.94500\n",
       "1337   61  female  29.070         0    yes  northwest  29141.36030\n",
       "\n",
       "[1338 rows x 7 columns]"
      ]
     },
     "execution_count": 4,
     "metadata": {},
     "output_type": "execute_result"
    }
   ],
   "source": [
    "data"
   ]
  },
  {
   "cell_type": "raw",
   "id": "6d6a1189",
   "metadata": {},
   "source": []
  },
  {
   "cell_type": "markdown",
   "id": "6c9e7759",
   "metadata": {},
   "source": [
    "#### Exploratory Data Analysis"
   ]
  },
  {
   "cell_type": "code",
   "execution_count": 5,
   "id": "555f170d",
   "metadata": {},
   "outputs": [
    {
     "data": {
      "text/plain": [
       "(1338, 7)"
      ]
     },
     "execution_count": 5,
     "metadata": {},
     "output_type": "execute_result"
    }
   ],
   "source": [
    "data.shape"
   ]
  },
  {
   "cell_type": "code",
   "execution_count": 6,
   "id": "d4e15b61",
   "metadata": {},
   "outputs": [
    {
     "data": {
      "text/plain": [
       "Index(['age', 'sex', 'bmi', 'children', 'smoker', 'region', 'charges'], dtype='object')"
      ]
     },
     "execution_count": 6,
     "metadata": {},
     "output_type": "execute_result"
    }
   ],
   "source": [
    "data.columns"
   ]
  },
  {
   "cell_type": "code",
   "execution_count": 7,
   "id": "ec4147a1",
   "metadata": {},
   "outputs": [
    {
     "name": "stdout",
     "output_type": "stream",
     "text": [
      "<class 'pandas.core.frame.DataFrame'>\n",
      "RangeIndex: 1338 entries, 0 to 1337\n",
      "Data columns (total 7 columns):\n",
      " #   Column    Non-Null Count  Dtype  \n",
      "---  ------    --------------  -----  \n",
      " 0   age       1338 non-null   int64  \n",
      " 1   sex       1338 non-null   object \n",
      " 2   bmi       1338 non-null   float64\n",
      " 3   children  1338 non-null   int64  \n",
      " 4   smoker    1338 non-null   object \n",
      " 5   region    1338 non-null   object \n",
      " 6   charges   1338 non-null   float64\n",
      "dtypes: float64(2), int64(2), object(3)\n",
      "memory usage: 73.3+ KB\n"
     ]
    }
   ],
   "source": [
    "#data summary\n",
    "data.info()"
   ]
  },
  {
   "cell_type": "code",
   "execution_count": 8,
   "id": "8f1a045e",
   "metadata": {},
   "outputs": [
    {
     "data": {
      "text/plain": [
       "Index(['sex', 'smoker', 'region'], dtype='object')"
      ]
     },
     "execution_count": 8,
     "metadata": {},
     "output_type": "execute_result"
    }
   ],
   "source": [
    "#Explore categorical variables\n",
    "cat_var = data.select_dtypes(include='object')\n",
    "cat_var.columns"
   ]
  },
  {
   "cell_type": "code",
   "execution_count": 9,
   "id": "3635351a",
   "metadata": {},
   "outputs": [
    {
     "name": "stdout",
     "output_type": "stream",
     "text": [
      "<class 'pandas.core.frame.DataFrame'>\n",
      "RangeIndex: 1338 entries, 0 to 1337\n",
      "Data columns (total 3 columns):\n",
      " #   Column  Non-Null Count  Dtype \n",
      "---  ------  --------------  ----- \n",
      " 0   sex     1338 non-null   object\n",
      " 1   smoker  1338 non-null   object\n",
      " 2   region  1338 non-null   object\n",
      "dtypes: object(3)\n",
      "memory usage: 31.5+ KB\n"
     ]
    }
   ],
   "source": [
    "#Summary of categorical variables\n",
    "cat_var.info()"
   ]
  },
  {
   "cell_type": "code",
   "execution_count": 10,
   "id": "41f40fc1",
   "metadata": {},
   "outputs": [
    {
     "name": "stdout",
     "output_type": "stream",
     "text": [
      "sex 2 \n",
      "\n",
      "smoker 2 \n",
      "\n",
      "region 4 \n",
      "\n"
     ]
    }
   ],
   "source": [
    "# Number of unique values in each categorical variable\n",
    "for i in cat_var.columns:\n",
    "    print(i,data[i].nunique(), '\\n')"
   ]
  },
  {
   "cell_type": "code",
   "execution_count": 11,
   "id": "104b3df8",
   "metadata": {},
   "outputs": [
    {
     "name": "stdout",
     "output_type": "stream",
     "text": [
      "sex \n",
      " male      676\n",
      "female    662\n",
      "Name: sex, dtype: int64 \n",
      "\n",
      "smoker \n",
      " no     1064\n",
      "yes     274\n",
      "Name: smoker, dtype: int64 \n",
      "\n",
      "region \n",
      " southeast    364\n",
      "southwest    325\n",
      "northwest    325\n",
      "northeast    324\n",
      "Name: region, dtype: int64 \n",
      "\n"
     ]
    }
   ],
   "source": [
    "#Frequency of each category in categorical variables\n",
    "for i in cat_var.columns:\n",
    "    print(i, '\\n', data[i].value_counts(), '\\n')"
   ]
  },
  {
   "cell_type": "code",
   "execution_count": 12,
   "id": "f3b71ca4",
   "metadata": {},
   "outputs": [
    {
     "data": {
      "image/png": "[encoded data removed]",
      "text/plain": [
       "<Figure size 432x288 with 1 Axes>"
      ]
     },
     "metadata": {
      "needs_background": "light"
     },
     "output_type": "display_data"
    }
   ],
   "source": [
    "#Visualize gender variable\n",
    "sns.countplot(data = data, x = 'sex')\n",
    "plt.show()"
   ]
  },
  {
   "cell_type": "code",
   "execution_count": 13,
   "id": "6a4ab01f",
   "metadata": {},
   "outputs": [
    {
     "data": {
      "image/png": "[encoded data removed]",
      "text/plain": [
       "<Figure size 432x288 with 1 Axes>"
      ]
     },
     "metadata": {
      "needs_background": "light"
     },
     "output_type": "display_data"
    }
   ],
   "source": [
    "#Visualize smoker variable\n",
    "sns.countplot(data = data, x = 'smoker')\n",
    "plt.show()"
   ]
  },
  {
   "cell_type": "code",
   "execution_count": 14,
   "id": "031427a3",
   "metadata": {},
   "outputs": [
    {
     "data": {
      "image/png": "[encoded data removed]",
      "text/plain": [
       "<Figure size 432x288 with 1 Axes>"
      ]
     },
     "metadata": {
      "needs_background": "light"
     },
     "output_type": "display_data"
    }
   ],
   "source": [
    "#Visualize region variable\n",
    "sns.countplot(data = data, x = 'region')\n",
    "plt.show()"
   ]
  },
  {
   "cell_type": "code",
   "execution_count": 15,
   "id": "fbf1db34",
   "metadata": {},
   "outputs": [
    {
     "data": {
      "text/plain": [
       "sex       0\n",
       "smoker    0\n",
       "region    0\n",
       "dtype: int64"
      ]
     },
     "execution_count": 15,
     "metadata": {},
     "output_type": "execute_result"
    }
   ],
   "source": [
    "#Null values in categorcal variables\n",
    "cat_var.isnull().sum()"
   ]
  },
  {
   "cell_type": "code",
   "execution_count": 16,
   "id": "956b4af6",
   "metadata": {},
   "outputs": [
    {
     "data": {
      "text/plain": [
       "Index(['age', 'bmi', 'children', 'charges'], dtype='object')"
      ]
     },
     "execution_count": 16,
     "metadata": {},
     "output_type": "execute_result"
    }
   ],
   "source": [
    "#Exploring numerical variables\n",
    "num_var = data.select_dtypes(include='number')\n",
    "num_var.columns"
   ]
  },
  {
   "cell_type": "code",
   "execution_count": 17,
   "id": "82536c83",
   "metadata": {},
   "outputs": [
    {
     "name": "stdout",
     "output_type": "stream",
     "text": [
      "<class 'pandas.core.frame.DataFrame'>\n",
      "RangeIndex: 1338 entries, 0 to 1337\n",
      "Data columns (total 4 columns):\n",
      " #   Column    Non-Null Count  Dtype  \n",
      "---  ------    --------------  -----  \n",
      " 0   age       1338 non-null   int64  \n",
      " 1   bmi       1338 non-null   float64\n",
      " 2   children  1338 non-null   int64  \n",
      " 3   charges   1338 non-null   float64\n",
      "dtypes: float64(2), int64(2)\n",
      "memory usage: 41.9 KB\n"
     ]
    }
   ],
   "source": [
    "#Summary of numerical variables\n",
    "num_var.info()"
   ]
  },
  {
   "cell_type": "code",
   "execution_count": 18,
   "id": "06289453",
   "metadata": {},
   "outputs": [
    {
     "data": {
      "text/plain": [
       "age         0\n",
       "bmi         0\n",
       "children    0\n",
       "charges     0\n",
       "dtype: int64"
      ]
     },
     "execution_count": 18,
     "metadata": {},
     "output_type": "execute_result"
    }
   ],
   "source": [
    "#Null values\n",
    "num_var.isnull().sum()"
   ]
  },
  {
   "cell_type": "code",
   "execution_count": 19,
   "id": "ef960414",
   "metadata": {},
   "outputs": [
    {
     "data": {
      "text/html": [
       "<div>\n",
       "<style scoped>\n",
       "    .dataframe tbody tr th:only-of-type {\n",
       "        vertical-align: middle;\n",
       "    }\n",
       "\n",
       "    .dataframe tbody tr th {\n",
       "        vertical-align: top;\n",
       "    }\n",
       "\n",
       "    .dataframe thead th {\n",
       "        text-align: right;\n",
       "    }\n",
       "</style>\n",
       "<table border=\"1\" class=\"dataframe\">\n",
       "  <thead>\n",
       "    <tr style=\"text-align: right;\">\n",
       "      <th></th>\n",
       "      <th>age</th>\n",
       "      <th>bmi</th>\n",
       "      <th>children</th>\n",
       "      <th>charges</th>\n",
       "    </tr>\n",
       "  </thead>\n",
       "  <tbody>\n",
       "    <tr>\n",
       "      <th>count</th>\n",
       "      <td>1338.000000</td>\n",
       "      <td>1338.000000</td>\n",
       "      <td>1338.000000</td>\n",
       "      <td>1338.000000</td>\n",
       "    </tr>\n",
       "    <tr>\n",
       "      <th>mean</th>\n",
       "      <td>39.207025</td>\n",
       "      <td>30.663397</td>\n",
       "      <td>1.094918</td>\n",
       "      <td>13270.422265</td>\n",
       "    </tr>\n",
       "    <tr>\n",
       "      <th>std</th>\n",
       "      <td>14.049960</td>\n",
       "      <td>6.098187</td>\n",
       "      <td>1.205493</td>\n",
       "      <td>12110.011237</td>\n",
       "    </tr>\n",
       "    <tr>\n",
       "      <th>min</th>\n",
       "      <td>18.000000</td>\n",
       "      <td>15.960000</td>\n",
       "      <td>0.000000</td>\n",
       "      <td>1121.873900</td>\n",
       "    </tr>\n",
       "    <tr>\n",
       "      <th>1%</th>\n",
       "      <td>18.000000</td>\n",
       "      <td>17.895150</td>\n",
       "      <td>0.000000</td>\n",
       "      <td>1252.972730</td>\n",
       "    </tr>\n",
       "    <tr>\n",
       "      <th>5%</th>\n",
       "      <td>18.000000</td>\n",
       "      <td>21.256000</td>\n",
       "      <td>0.000000</td>\n",
       "      <td>1757.753400</td>\n",
       "    </tr>\n",
       "    <tr>\n",
       "      <th>10%</th>\n",
       "      <td>19.000000</td>\n",
       "      <td>22.990000</td>\n",
       "      <td>0.000000</td>\n",
       "      <td>2346.533615</td>\n",
       "    </tr>\n",
       "    <tr>\n",
       "      <th>25%</th>\n",
       "      <td>27.000000</td>\n",
       "      <td>26.296250</td>\n",
       "      <td>0.000000</td>\n",
       "      <td>4740.287150</td>\n",
       "    </tr>\n",
       "    <tr>\n",
       "      <th>50%</th>\n",
       "      <td>39.000000</td>\n",
       "      <td>30.400000</td>\n",
       "      <td>1.000000</td>\n",
       "      <td>9382.033000</td>\n",
       "    </tr>\n",
       "    <tr>\n",
       "      <th>75%</th>\n",
       "      <td>51.000000</td>\n",
       "      <td>34.693750</td>\n",
       "      <td>2.000000</td>\n",
       "      <td>16639.912515</td>\n",
       "    </tr>\n",
       "    <tr>\n",
       "      <th>90%</th>\n",
       "      <td>59.000000</td>\n",
       "      <td>38.619500</td>\n",
       "      <td>3.000000</td>\n",
       "      <td>34831.719700</td>\n",
       "    </tr>\n",
       "    <tr>\n",
       "      <th>95%</th>\n",
       "      <td>62.000000</td>\n",
       "      <td>41.106000</td>\n",
       "      <td>3.000000</td>\n",
       "      <td>41181.827787</td>\n",
       "    </tr>\n",
       "    <tr>\n",
       "      <th>99%</th>\n",
       "      <td>64.000000</td>\n",
       "      <td>46.407900</td>\n",
       "      <td>5.000000</td>\n",
       "      <td>48537.480726</td>\n",
       "    </tr>\n",
       "    <tr>\n",
       "      <th>max</th>\n",
       "      <td>64.000000</td>\n",
       "      <td>53.130000</td>\n",
       "      <td>5.000000</td>\n",
       "      <td>63770.428010</td>\n",
       "    </tr>\n",
       "  </tbody>\n",
       "</table>\n",
       "</div>"
      ],
      "text/plain": [
       "               age          bmi     children       charges\n",
       "count  1338.000000  1338.000000  1338.000000   1338.000000\n",
       "mean     39.207025    30.663397     1.094918  13270.422265\n",
       "std      14.049960     6.098187     1.205493  12110.011237\n",
       "min      18.000000    15.960000     0.000000   1121.873900\n",
       "1%       18.000000    17.895150     0.000000   1252.972730\n",
       "5%       18.000000    21.256000     0.000000   1757.753400\n",
       "10%      19.000000    22.990000     0.000000   2346.533615\n",
       "25%      27.000000    26.296250     0.000000   4740.287150\n",
       "50%      39.000000    30.400000     1.000000   9382.033000\n",
       "75%      51.000000    34.693750     2.000000  16639.912515\n",
       "90%      59.000000    38.619500     3.000000  34831.719700\n",
       "95%      62.000000    41.106000     3.000000  41181.827787\n",
       "99%      64.000000    46.407900     5.000000  48537.480726\n",
       "max      64.000000    53.130000     5.000000  63770.428010"
      ]
     },
     "execution_count": 19,
     "metadata": {},
     "output_type": "execute_result"
    }
   ],
   "source": [
    "#Outliers\n",
    "data.describe(percentiles=[0.01, 0.05, 0.1, 0.25, 0.5, 0.75, 0.9, 0.95, 0.99])"
   ]
  },
  {
   "cell_type": "code",
   "execution_count": 20,
   "id": "04fbe4b2",
   "metadata": {},
   "outputs": [],
   "source": [
    "# capping outliers\n",
    "data['charges'] = np.where(data['charges']>50000, 50000, data['charges'])"
   ]
  },
  {
   "cell_type": "code",
   "execution_count": 21,
   "id": "3a119c4a",
   "metadata": {},
   "outputs": [
    {
     "data": {
      "text/html": [
       "<div>\n",
       "<style scoped>\n",
       "    .dataframe tbody tr th:only-of-type {\n",
       "        vertical-align: middle;\n",
       "    }\n",
       "\n",
       "    .dataframe tbody tr th {\n",
       "        vertical-align: top;\n",
       "    }\n",
       "\n",
       "    .dataframe thead th {\n",
       "        text-align: right;\n",
       "    }\n",
       "</style>\n",
       "<table border=\"1\" class=\"dataframe\">\n",
       "  <thead>\n",
       "    <tr style=\"text-align: right;\">\n",
       "      <th></th>\n",
       "      <th>age</th>\n",
       "      <th>bmi</th>\n",
       "      <th>children</th>\n",
       "      <th>charges</th>\n",
       "    </tr>\n",
       "  </thead>\n",
       "  <tbody>\n",
       "    <tr>\n",
       "      <th>count</th>\n",
       "      <td>1338.000000</td>\n",
       "      <td>1338.000000</td>\n",
       "      <td>1338.000000</td>\n",
       "      <td>1338.000000</td>\n",
       "    </tr>\n",
       "    <tr>\n",
       "      <th>mean</th>\n",
       "      <td>39.207025</td>\n",
       "      <td>30.663397</td>\n",
       "      <td>1.094918</td>\n",
       "      <td>13230.155774</td>\n",
       "    </tr>\n",
       "    <tr>\n",
       "      <th>std</th>\n",
       "      <td>14.049960</td>\n",
       "      <td>6.098187</td>\n",
       "      <td>1.205493</td>\n",
       "      <td>11969.723603</td>\n",
       "    </tr>\n",
       "    <tr>\n",
       "      <th>min</th>\n",
       "      <td>18.000000</td>\n",
       "      <td>15.960000</td>\n",
       "      <td>0.000000</td>\n",
       "      <td>1121.873900</td>\n",
       "    </tr>\n",
       "    <tr>\n",
       "      <th>1%</th>\n",
       "      <td>18.000000</td>\n",
       "      <td>17.895150</td>\n",
       "      <td>0.000000</td>\n",
       "      <td>1252.972730</td>\n",
       "    </tr>\n",
       "    <tr>\n",
       "      <th>5%</th>\n",
       "      <td>18.000000</td>\n",
       "      <td>21.256000</td>\n",
       "      <td>0.000000</td>\n",
       "      <td>1757.753400</td>\n",
       "    </tr>\n",
       "    <tr>\n",
       "      <th>10%</th>\n",
       "      <td>19.000000</td>\n",
       "      <td>22.990000</td>\n",
       "      <td>0.000000</td>\n",
       "      <td>2346.533615</td>\n",
       "    </tr>\n",
       "    <tr>\n",
       "      <th>25%</th>\n",
       "      <td>27.000000</td>\n",
       "      <td>26.296250</td>\n",
       "      <td>0.000000</td>\n",
       "      <td>4740.287150</td>\n",
       "    </tr>\n",
       "    <tr>\n",
       "      <th>50%</th>\n",
       "      <td>39.000000</td>\n",
       "      <td>30.400000</td>\n",
       "      <td>1.000000</td>\n",
       "      <td>9382.033000</td>\n",
       "    </tr>\n",
       "    <tr>\n",
       "      <th>75%</th>\n",
       "      <td>51.000000</td>\n",
       "      <td>34.693750</td>\n",
       "      <td>2.000000</td>\n",
       "      <td>16639.912515</td>\n",
       "    </tr>\n",
       "    <tr>\n",
       "      <th>90%</th>\n",
       "      <td>59.000000</td>\n",
       "      <td>38.619500</td>\n",
       "      <td>3.000000</td>\n",
       "      <td>34831.719700</td>\n",
       "    </tr>\n",
       "    <tr>\n",
       "      <th>95%</th>\n",
       "      <td>62.000000</td>\n",
       "      <td>41.106000</td>\n",
       "      <td>3.000000</td>\n",
       "      <td>41181.827787</td>\n",
       "    </tr>\n",
       "    <tr>\n",
       "      <th>99%</th>\n",
       "      <td>64.000000</td>\n",
       "      <td>46.407900</td>\n",
       "      <td>5.000000</td>\n",
       "      <td>48537.480726</td>\n",
       "    </tr>\n",
       "    <tr>\n",
       "      <th>max</th>\n",
       "      <td>64.000000</td>\n",
       "      <td>53.130000</td>\n",
       "      <td>5.000000</td>\n",
       "      <td>50000.000000</td>\n",
       "    </tr>\n",
       "  </tbody>\n",
       "</table>\n",
       "</div>"
      ],
      "text/plain": [
       "               age          bmi     children       charges\n",
       "count  1338.000000  1338.000000  1338.000000   1338.000000\n",
       "mean     39.207025    30.663397     1.094918  13230.155774\n",
       "std      14.049960     6.098187     1.205493  11969.723603\n",
       "min      18.000000    15.960000     0.000000   1121.873900\n",
       "1%       18.000000    17.895150     0.000000   1252.972730\n",
       "5%       18.000000    21.256000     0.000000   1757.753400\n",
       "10%      19.000000    22.990000     0.000000   2346.533615\n",
       "25%      27.000000    26.296250     0.000000   4740.287150\n",
       "50%      39.000000    30.400000     1.000000   9382.033000\n",
       "75%      51.000000    34.693750     2.000000  16639.912515\n",
       "90%      59.000000    38.619500     3.000000  34831.719700\n",
       "95%      62.000000    41.106000     3.000000  41181.827787\n",
       "99%      64.000000    46.407900     5.000000  48537.480726\n",
       "max      64.000000    53.130000     5.000000  50000.000000"
      ]
     },
     "execution_count": 21,
     "metadata": {},
     "output_type": "execute_result"
    }
   ],
   "source": [
    "data.describe(percentiles=[0.01, 0.05, 0.1, 0.25, 0.5, 0.75, 0.9, 0.95, 0.99])"
   ]
  },
  {
   "cell_type": "raw",
   "id": "1a23387d",
   "metadata": {},
   "source": []
  },
  {
   "cell_type": "markdown",
   "id": "facd6236",
   "metadata": {},
   "source": [
    "#### Feature Engineering"
   ]
  },
  {
   "cell_type": "code",
   "execution_count": 22,
   "id": "759dfe6f",
   "metadata": {},
   "outputs": [],
   "source": [
    "#Encoding categorical variables\n",
    "from category_encoders import OneHotEncoder\n",
    "enc = OneHotEncoder()\n",
    "data = enc.fit_transform(data)"
   ]
  },
  {
   "cell_type": "code",
   "execution_count": 23,
   "id": "95240595",
   "metadata": {},
   "outputs": [
    {
     "data": {
      "text/html": [
       "<div>\n",
       "<style scoped>\n",
       "    .dataframe tbody tr th:only-of-type {\n",
       "        vertical-align: middle;\n",
       "    }\n",
       "\n",
       "    .dataframe tbody tr th {\n",
       "        vertical-align: top;\n",
       "    }\n",
       "\n",
       "    .dataframe thead th {\n",
       "        text-align: right;\n",
       "    }\n",
       "</style>\n",
       "<table border=\"1\" class=\"dataframe\">\n",
       "  <thead>\n",
       "    <tr style=\"text-align: right;\">\n",
       "      <th></th>\n",
       "      <th>age</th>\n",
       "      <th>sex_1</th>\n",
       "      <th>sex_2</th>\n",
       "      <th>bmi</th>\n",
       "      <th>children</th>\n",
       "      <th>smoker_1</th>\n",
       "      <th>smoker_2</th>\n",
       "      <th>region_1</th>\n",
       "      <th>region_2</th>\n",
       "      <th>region_3</th>\n",
       "      <th>region_4</th>\n",
       "      <th>charges</th>\n",
       "    </tr>\n",
       "  </thead>\n",
       "  <tbody>\n",
       "    <tr>\n",
       "      <th>0</th>\n",
       "      <td>19</td>\n",
       "      <td>1</td>\n",
       "      <td>0</td>\n",
       "      <td>27.900</td>\n",
       "      <td>0</td>\n",
       "      <td>1</td>\n",
       "      <td>0</td>\n",
       "      <td>1</td>\n",
       "      <td>0</td>\n",
       "      <td>0</td>\n",
       "      <td>0</td>\n",
       "      <td>16884.92400</td>\n",
       "    </tr>\n",
       "    <tr>\n",
       "      <th>1</th>\n",
       "      <td>18</td>\n",
       "      <td>0</td>\n",
       "      <td>1</td>\n",
       "      <td>33.770</td>\n",
       "      <td>1</td>\n",
       "      <td>0</td>\n",
       "      <td>1</td>\n",
       "      <td>0</td>\n",
       "      <td>1</td>\n",
       "      <td>0</td>\n",
       "      <td>0</td>\n",
       "      <td>1725.55230</td>\n",
       "    </tr>\n",
       "    <tr>\n",
       "      <th>2</th>\n",
       "      <td>28</td>\n",
       "      <td>0</td>\n",
       "      <td>1</td>\n",
       "      <td>33.000</td>\n",
       "      <td>3</td>\n",
       "      <td>0</td>\n",
       "      <td>1</td>\n",
       "      <td>0</td>\n",
       "      <td>1</td>\n",
       "      <td>0</td>\n",
       "      <td>0</td>\n",
       "      <td>4449.46200</td>\n",
       "    </tr>\n",
       "    <tr>\n",
       "      <th>3</th>\n",
       "      <td>33</td>\n",
       "      <td>0</td>\n",
       "      <td>1</td>\n",
       "      <td>22.705</td>\n",
       "      <td>0</td>\n",
       "      <td>0</td>\n",
       "      <td>1</td>\n",
       "      <td>0</td>\n",
       "      <td>0</td>\n",
       "      <td>1</td>\n",
       "      <td>0</td>\n",
       "      <td>21984.47061</td>\n",
       "    </tr>\n",
       "    <tr>\n",
       "      <th>4</th>\n",
       "      <td>32</td>\n",
       "      <td>0</td>\n",
       "      <td>1</td>\n",
       "      <td>28.880</td>\n",
       "      <td>0</td>\n",
       "      <td>0</td>\n",
       "      <td>1</td>\n",
       "      <td>0</td>\n",
       "      <td>0</td>\n",
       "      <td>1</td>\n",
       "      <td>0</td>\n",
       "      <td>3866.85520</td>\n",
       "    </tr>\n",
       "  </tbody>\n",
       "</table>\n",
       "</div>"
      ],
      "text/plain": [
       "   age  sex_1  sex_2     bmi  children  smoker_1  smoker_2  region_1  \\\n",
       "0   19      1      0  27.900         0         1         0         1   \n",
       "1   18      0      1  33.770         1         0         1         0   \n",
       "2   28      0      1  33.000         3         0         1         0   \n",
       "3   33      0      1  22.705         0         0         1         0   \n",
       "4   32      0      1  28.880         0         0         1         0   \n",
       "\n",
       "   region_2  region_3  region_4      charges  \n",
       "0         0         0         0  16884.92400  \n",
       "1         1         0         0   1725.55230  \n",
       "2         1         0         0   4449.46200  \n",
       "3         0         1         0  21984.47061  \n",
       "4         0         1         0   3866.85520  "
      ]
     },
     "execution_count": 23,
     "metadata": {},
     "output_type": "execute_result"
    }
   ],
   "source": [
    "data.head()"
   ]
  },
  {
   "cell_type": "raw",
   "id": "10dba40c",
   "metadata": {},
   "source": []
  },
  {
   "cell_type": "markdown",
   "id": "def72fde",
   "metadata": {},
   "source": [
    "#### Declare dependent and independent variables"
   ]
  },
  {
   "cell_type": "code",
   "execution_count": 24,
   "id": "8c346714",
   "metadata": {},
   "outputs": [],
   "source": [
    "X = data.drop('charges', axis = True)\n",
    "y = data['charges']"
   ]
  },
  {
   "cell_type": "markdown",
   "id": "0f546ff1",
   "metadata": {},
   "source": [
    "#### Split data into train and test data"
   ]
  },
  {
   "cell_type": "code",
   "execution_count": 25,
   "id": "2928254b",
   "metadata": {},
   "outputs": [],
   "source": [
    "from sklearn.model_selection import train_test_split\n",
    "X_train, X_test, y_train, y_test = train_test_split(X, y, test_size=0.33, random_state=42)"
   ]
  },
  {
   "cell_type": "code",
   "execution_count": 26,
   "id": "4358c00f",
   "metadata": {},
   "outputs": [
    {
     "name": "stdout",
     "output_type": "stream",
     "text": [
      "(896, 11) (442, 11)\n"
     ]
    }
   ],
   "source": [
    "print(X_train.shape, X_test.shape)"
   ]
  },
  {
   "cell_type": "code",
   "execution_count": 27,
   "id": "2830cf2a",
   "metadata": {},
   "outputs": [],
   "source": [
    "#Scaling\n",
    "from sklearn.preprocessing import StandardScaler\n",
    "scaler = StandardScaler()\n",
    "scaled_x_train = scaler.fit_transform(X_train)\n",
    "scaled_x_test = scaler.transform(X_test)"
   ]
  },
  {
   "cell_type": "code",
   "execution_count": 28,
   "id": "cccd7f69",
   "metadata": {},
   "outputs": [
    {
     "data": {
      "text/html": [
       "<div>\n",
       "<style scoped>\n",
       "    .dataframe tbody tr th:only-of-type {\n",
       "        vertical-align: middle;\n",
       "    }\n",
       "\n",
       "    .dataframe tbody tr th {\n",
       "        vertical-align: top;\n",
       "    }\n",
       "\n",
       "    .dataframe thead th {\n",
       "        text-align: right;\n",
       "    }\n",
       "</style>\n",
       "<table border=\"1\" class=\"dataframe\">\n",
       "  <thead>\n",
       "    <tr style=\"text-align: right;\">\n",
       "      <th></th>\n",
       "      <th>age</th>\n",
       "      <th>sex_1</th>\n",
       "      <th>sex_2</th>\n",
       "      <th>bmi</th>\n",
       "      <th>children</th>\n",
       "      <th>smoker_1</th>\n",
       "      <th>smoker_2</th>\n",
       "      <th>region_1</th>\n",
       "      <th>region_2</th>\n",
       "      <th>region_3</th>\n",
       "      <th>region_4</th>\n",
       "    </tr>\n",
       "  </thead>\n",
       "  <tbody>\n",
       "    <tr>\n",
       "      <th>0</th>\n",
       "      <td>0.265106</td>\n",
       "      <td>1.024863</td>\n",
       "      <td>-1.024863</td>\n",
       "      <td>-0.913375</td>\n",
       "      <td>-0.912607</td>\n",
       "      <td>-0.515303</td>\n",
       "      <td>0.515303</td>\n",
       "      <td>-0.555004</td>\n",
       "      <td>-0.585942</td>\n",
       "      <td>-0.580787</td>\n",
       "      <td>1.701662</td>\n",
       "    </tr>\n",
       "    <tr>\n",
       "      <th>1</th>\n",
       "      <td>-0.016500</td>\n",
       "      <td>-0.975741</td>\n",
       "      <td>0.975741</td>\n",
       "      <td>0.795456</td>\n",
       "      <td>0.747689</td>\n",
       "      <td>1.940607</td>\n",
       "      <td>-1.940607</td>\n",
       "      <td>1.801790</td>\n",
       "      <td>-0.585942</td>\n",
       "      <td>-0.580787</td>\n",
       "      <td>-0.587661</td>\n",
       "    </tr>\n",
       "    <tr>\n",
       "      <th>2</th>\n",
       "      <td>0.405909</td>\n",
       "      <td>1.024863</td>\n",
       "      <td>-1.024863</td>\n",
       "      <td>-0.007962</td>\n",
       "      <td>-0.082459</td>\n",
       "      <td>1.940607</td>\n",
       "      <td>-1.940607</td>\n",
       "      <td>-0.555004</td>\n",
       "      <td>-0.585942</td>\n",
       "      <td>1.721802</td>\n",
       "      <td>-0.587661</td>\n",
       "    </tr>\n",
       "    <tr>\n",
       "      <th>3</th>\n",
       "      <td>-1.424533</td>\n",
       "      <td>1.024863</td>\n",
       "      <td>-1.024863</td>\n",
       "      <td>0.394165</td>\n",
       "      <td>-0.912607</td>\n",
       "      <td>-0.515303</td>\n",
       "      <td>0.515303</td>\n",
       "      <td>1.801790</td>\n",
       "      <td>-0.585942</td>\n",
       "      <td>-0.580787</td>\n",
       "      <td>-0.587661</td>\n",
       "    </tr>\n",
       "    <tr>\n",
       "      <th>4</th>\n",
       "      <td>1.461934</td>\n",
       "      <td>-0.975741</td>\n",
       "      <td>0.975741</td>\n",
       "      <td>1.564598</td>\n",
       "      <td>-0.912607</td>\n",
       "      <td>1.940607</td>\n",
       "      <td>-1.940607</td>\n",
       "      <td>1.801790</td>\n",
       "      <td>-0.585942</td>\n",
       "      <td>-0.580787</td>\n",
       "      <td>-0.587661</td>\n",
       "    </tr>\n",
       "  </tbody>\n",
       "</table>\n",
       "</div>"
      ],
      "text/plain": [
       "        age     sex_1     sex_2       bmi  children  smoker_1  smoker_2  \\\n",
       "0  0.265106  1.024863 -1.024863 -0.913375 -0.912607 -0.515303  0.515303   \n",
       "1 -0.016500 -0.975741  0.975741  0.795456  0.747689  1.940607 -1.940607   \n",
       "2  0.405909  1.024863 -1.024863 -0.007962 -0.082459  1.940607 -1.940607   \n",
       "3 -1.424533  1.024863 -1.024863  0.394165 -0.912607 -0.515303  0.515303   \n",
       "4  1.461934 -0.975741  0.975741  1.564598 -0.912607  1.940607 -1.940607   \n",
       "\n",
       "   region_1  region_2  region_3  region_4  \n",
       "0 -0.555004 -0.585942 -0.580787  1.701662  \n",
       "1  1.801790 -0.585942 -0.580787 -0.587661  \n",
       "2 -0.555004 -0.585942  1.721802 -0.587661  \n",
       "3  1.801790 -0.585942 -0.580787 -0.587661  \n",
       "4  1.801790 -0.585942 -0.580787 -0.587661  "
      ]
     },
     "execution_count": 28,
     "metadata": {},
     "output_type": "execute_result"
    }
   ],
   "source": [
    "pd.DataFrame(scaled_x_train, columns=data.columns[:-1]).head()"
   ]
  },
  {
   "cell_type": "code",
   "execution_count": 29,
   "id": "9187c6a6",
   "metadata": {},
   "outputs": [
    {
     "data": {
      "text/html": [
       "<div>\n",
       "<style scoped>\n",
       "    .dataframe tbody tr th:only-of-type {\n",
       "        vertical-align: middle;\n",
       "    }\n",
       "\n",
       "    .dataframe tbody tr th {\n",
       "        vertical-align: top;\n",
       "    }\n",
       "\n",
       "    .dataframe thead th {\n",
       "        text-align: right;\n",
       "    }\n",
       "</style>\n",
       "<table border=\"1\" class=\"dataframe\">\n",
       "  <thead>\n",
       "    <tr style=\"text-align: right;\">\n",
       "      <th></th>\n",
       "      <th>age</th>\n",
       "      <th>sex_1</th>\n",
       "      <th>sex_2</th>\n",
       "      <th>bmi</th>\n",
       "      <th>children</th>\n",
       "      <th>smoker_1</th>\n",
       "      <th>smoker_2</th>\n",
       "      <th>region_1</th>\n",
       "      <th>region_2</th>\n",
       "      <th>region_3</th>\n",
       "      <th>region_4</th>\n",
       "    </tr>\n",
       "  </thead>\n",
       "  <tbody>\n",
       "    <tr>\n",
       "      <th>0</th>\n",
       "      <td>0.405909</td>\n",
       "      <td>1.024863</td>\n",
       "      <td>-1.024863</td>\n",
       "      <td>-0.897490</td>\n",
       "      <td>0.747689</td>\n",
       "      <td>-0.515303</td>\n",
       "      <td>0.515303</td>\n",
       "      <td>-0.555004</td>\n",
       "      <td>-0.585942</td>\n",
       "      <td>-0.580787</td>\n",
       "      <td>1.701662</td>\n",
       "    </tr>\n",
       "    <tr>\n",
       "      <th>1</th>\n",
       "      <td>-0.227705</td>\n",
       "      <td>1.024863</td>\n",
       "      <td>-1.024863</td>\n",
       "      <td>-0.087384</td>\n",
       "      <td>-0.912607</td>\n",
       "      <td>-0.515303</td>\n",
       "      <td>0.515303</td>\n",
       "      <td>-0.555004</td>\n",
       "      <td>-0.585942</td>\n",
       "      <td>1.721802</td>\n",
       "      <td>-0.587661</td>\n",
       "    </tr>\n",
       "    <tr>\n",
       "      <th>2</th>\n",
       "      <td>1.743540</td>\n",
       "      <td>1.024863</td>\n",
       "      <td>-1.024863</td>\n",
       "      <td>-0.611570</td>\n",
       "      <td>-0.912607</td>\n",
       "      <td>1.940607</td>\n",
       "      <td>-1.940607</td>\n",
       "      <td>-0.555004</td>\n",
       "      <td>-0.585942</td>\n",
       "      <td>1.721802</td>\n",
       "      <td>-0.587661</td>\n",
       "    </tr>\n",
       "    <tr>\n",
       "      <th>3</th>\n",
       "      <td>0.476311</td>\n",
       "      <td>-0.975741</td>\n",
       "      <td>0.975741</td>\n",
       "      <td>-0.802184</td>\n",
       "      <td>1.577838</td>\n",
       "      <td>-0.515303</td>\n",
       "      <td>0.515303</td>\n",
       "      <td>-0.555004</td>\n",
       "      <td>-0.585942</td>\n",
       "      <td>1.721802</td>\n",
       "      <td>-0.587661</td>\n",
       "    </tr>\n",
       "    <tr>\n",
       "      <th>4</th>\n",
       "      <td>-1.424533</td>\n",
       "      <td>-0.975741</td>\n",
       "      <td>0.975741</td>\n",
       "      <td>0.230305</td>\n",
       "      <td>-0.912607</td>\n",
       "      <td>1.940607</td>\n",
       "      <td>-1.940607</td>\n",
       "      <td>-0.555004</td>\n",
       "      <td>-0.585942</td>\n",
       "      <td>1.721802</td>\n",
       "      <td>-0.587661</td>\n",
       "    </tr>\n",
       "  </tbody>\n",
       "</table>\n",
       "</div>"
      ],
      "text/plain": [
       "        age     sex_1     sex_2       bmi  children  smoker_1  smoker_2  \\\n",
       "0  0.405909  1.024863 -1.024863 -0.897490  0.747689 -0.515303  0.515303   \n",
       "1 -0.227705  1.024863 -1.024863 -0.087384 -0.912607 -0.515303  0.515303   \n",
       "2  1.743540  1.024863 -1.024863 -0.611570 -0.912607  1.940607 -1.940607   \n",
       "3  0.476311 -0.975741  0.975741 -0.802184  1.577838 -0.515303  0.515303   \n",
       "4 -1.424533 -0.975741  0.975741  0.230305 -0.912607  1.940607 -1.940607   \n",
       "\n",
       "   region_1  region_2  region_3  region_4  \n",
       "0 -0.555004 -0.585942 -0.580787  1.701662  \n",
       "1 -0.555004 -0.585942  1.721802 -0.587661  \n",
       "2 -0.555004 -0.585942  1.721802 -0.587661  \n",
       "3 -0.555004 -0.585942  1.721802 -0.587661  \n",
       "4 -0.555004 -0.585942  1.721802 -0.587661  "
      ]
     },
     "execution_count": 29,
     "metadata": {},
     "output_type": "execute_result"
    }
   ],
   "source": [
    "pd.DataFrame(scaled_x_test, columns=data.columns[:-1]).head()"
   ]
  },
  {
   "cell_type": "raw",
   "id": "9660805c",
   "metadata": {},
   "source": []
  },
  {
   "cell_type": "markdown",
   "id": "c4094ffa",
   "metadata": {},
   "source": [
    "#### Create model"
   ]
  },
  {
   "cell_type": "code",
   "execution_count": 30,
   "id": "b0ca9f85",
   "metadata": {},
   "outputs": [
    {
     "data": {
      "text/plain": [
       "LinearRegression()"
      ]
     },
     "execution_count": 30,
     "metadata": {},
     "output_type": "execute_result"
    }
   ],
   "source": [
    "from sklearn.linear_model import LinearRegression\n",
    "reg = LinearRegression()\n",
    "reg.fit(scaled_x_train, y_train)"
   ]
  },
  {
   "cell_type": "raw",
   "id": "79befbfa",
   "metadata": {},
   "source": []
  },
  {
   "cell_type": "markdown",
   "id": "dc7365fd",
   "metadata": {},
   "source": [
    "#### Predictions"
   ]
  },
  {
   "cell_type": "code",
   "execution_count": 31,
   "id": "609e1220",
   "metadata": {},
   "outputs": [
    {
     "data": {
      "text/plain": [
       "array([ 8865.34517697,  7044.68946067, 36754.25583551,  9427.62656053,\n",
       "       26850.76552187, 11011.25816384,    44.44089675, 17145.26298194,\n",
       "         977.23865632, 11217.68964162, 27877.92500748,  9403.84828568,\n",
       "        4943.22884963, 38087.04729519, 40110.18738042, 36801.5813537 ,\n",
       "       15016.10106583, 35529.03798547,  8847.38649226, 31280.300099  ,\n",
       "        3677.17252722, 10210.45576038,  2443.66492154,  7120.10449185,\n",
       "       11180.30265508, 13022.49278465, 14636.77396137,  5965.45863006,\n",
       "        9874.44981301,  1988.23203257,  8953.71982007, 13136.494187  ,\n",
       "        4286.35679319,  3170.43183932,  4510.28963258, 13218.33068423,\n",
       "        1871.75050651,  8804.41593452, 33062.14070285, 32275.18216456,\n",
       "        3619.04729963,  4332.47636742, 14212.61699496, 11582.03399455,\n",
       "        8576.28009926, 12256.47355237,  5128.20354228,  2953.36614766,\n",
       "       35121.18849109,  8958.6193101 , 15723.75527753,  2103.55434599,\n",
       "       12368.44408502,  1497.74261894, 13361.94630404, 12645.45016511,\n",
       "        4398.08875032, 31960.89452125, 13430.84762497, 12956.93843308,\n",
       "       14289.18222726, 10214.08583519, 16479.35519546,  7642.98780122,\n",
       "       11883.31467707,  3939.97541314, 26355.82441225, 10707.30696346,\n",
       "        1987.32049263,  6340.57594299, 10829.53834597, 11564.88732725,\n",
       "       10797.16002463,  8973.02919477, 11855.40779189,  6501.94706028,\n",
       "        7191.64939286, 10762.13571557,  6228.69479112,  8645.87537833,\n",
       "        3601.49371406, 36646.15828341,  6281.76816849, 30549.51226207,\n",
       "       34575.02817018, 35274.17544264,  6742.37047825, 13043.2900862 ,\n",
       "        9854.75443322, 14565.18802907, 17719.14071035, 34912.49021275,\n",
       "       32817.03059736,  6164.46025575, 31681.45272304,  9552.20719889,\n",
       "       29086.3116486 ,  3385.59383488, 27922.71305322,  5673.36896622,\n",
       "        5306.78209592,  1827.27566946, 11447.57881315, 15176.03240105,\n",
       "       11860.84108583,  4099.15523832,  9711.5592838 , 31432.71730968,\n",
       "         -95.65740744, 32386.41946062,  3367.8711667 , 10062.71495295,\n",
       "       14346.48815912, 31412.01177291, 11447.69487513,  3973.19810725,\n",
       "       13291.13165698, 31572.01749367,  7821.61888055,  3227.36947512,\n",
       "        8383.20405693, 10639.54626532, 15210.0502252 ,  5510.16743116,\n",
       "        3603.46356226, 10146.38451259, 10663.43926035, 11225.45253439,\n",
       "       14304.56857175,  7320.40945866,  5120.41320153,  8987.01444829,\n",
       "        9032.32072594, 12595.09545995,  8375.53142343, 15542.54020183,\n",
       "        8529.47431915, 31786.09519846, 35670.79737931, 31424.89279234,\n",
       "        5971.58332045, 12663.23789052,  5880.88516083, 14542.0579509 ,\n",
       "        2306.77006374, 32862.41771481,  6245.42567442,  5023.7100979 ,\n",
       "       14270.06521999,  7027.41996717, 38438.05104355,  3005.68283751,\n",
       "        5753.51673508, 31578.95461519, 11554.44965629,  8595.02867072,\n",
       "       15015.6403865 ,  9559.88521544, 26646.64698939, 33371.60577527,\n",
       "       14530.2701944 ,  1528.95764744, 13288.32123166,  2248.2531593 ,\n",
       "        5410.28668628, 11411.74814052, 39792.80888862, 36392.93047818,\n",
       "       33926.48849252,  3870.48107579,  7424.63524767,  8651.73408323,\n",
       "       12629.8943675 ,  4824.91042789,  1993.13184933, 31791.38892702,\n",
       "       25003.52354275, 17518.16936147, 26049.0111195 , 10177.32270944,\n",
       "       37161.58355092,  -631.11285268,  6816.81272168,  7759.16962   ,\n",
       "        4266.03151478,  5054.85763008,  5947.12462099,  4283.82748597,\n",
       "       15019.54803408, 11287.29822039,  6916.40056728,  2435.38905317,\n",
       "        1429.39011192, 31833.05077466, 16432.04753833, 11842.72363045,\n",
       "        1106.21886493, 12479.54255443,  1459.83801661,  8778.29158403,\n",
       "        1771.53770526, 33891.81430646, 10693.55564354,  2531.08511431,\n",
       "       25139.99151044, 25870.34708654,  9561.23664347,  1540.37251866,\n",
       "       13234.57787829,   997.53652985, 10571.55346957, 10321.54130003,\n",
       "       16962.93639621, 26503.33365329,  6710.95300297,  5140.62497723,\n",
       "        5534.05292085, 12918.50454885, 10912.9069692 ,  8088.63577797,\n",
       "        5085.82315057, 12484.78405836, 13687.80958583, 35457.70034197,\n",
       "        4213.73106791, 28606.08234611, -1013.80278789,  2911.4435051 ,\n",
       "       10931.40187122, 15359.70423374,  5067.04937774,  6857.34349034,\n",
       "        3719.82172339, 31293.70281684,  7215.56315288, 12365.65702642,\n",
       "        5591.43500612,  9705.45463029, 35884.80423251,  4273.43421992,\n",
       "        9676.20658726, 31037.88276944,  5705.74260358,  4274.19371406,\n",
       "        1057.89653564,  4898.6872567 ,  4451.82313153,  6587.72489984,\n",
       "       18327.92681019, -1576.09126307,  2327.54925486, 10731.56057149,\n",
       "        3112.1310105 , 10227.46599391,  3610.1331921 ,  4804.2389427 ,\n",
       "       12617.4639217 ,  6253.13053585,  8342.64596463,  7415.9621968 ,\n",
       "        8768.76727358, 10504.57685149, 27479.40230565, 38896.58016473,\n",
       "       11803.7587195 ,  7740.29339687, 40664.7766635 , 12361.61642564,\n",
       "        6962.17253883,  8336.22449858,  8940.54903923, 10684.51583089,\n",
       "        9946.67513864, 17596.38042582,  1034.69574323, 23420.92582682,\n",
       "       12781.67565069, 33077.38761691,  5157.94369871, 13080.51952195,\n",
       "       10400.81035824, 17905.42412544,  9801.49562144, 11544.85708448,\n",
       "       32143.70760204,  3354.912899  , 13464.15982487, 39083.87817076,\n",
       "        5524.90345428,  6198.90435631,  3378.42172184, 11561.6313576 ,\n",
       "       25186.05202419, 14085.08514429,  8925.035443  , 10166.2626452 ,\n",
       "       13349.35859376,   915.90247942,  2212.54483651, 30462.69333151,\n",
       "       29974.61761486, 13453.71799075,  3566.28665218, 25213.51895558,\n",
       "       13282.65204379, 30445.26110975,  3444.49368921, 38743.06340634,\n",
       "       11020.80978559,  4671.60137432,  6723.82700816,  2329.47142814,\n",
       "       25748.24670857, 14507.73572143,   571.26754641, 12737.57931579,\n",
       "       12611.79473383, 14990.55877226, 34646.22833123, 14316.4998389 ,\n",
       "       31334.28562008,  9965.07754711, 18267.1891677 ,  6032.16592115,\n",
       "        8734.42795118,  9396.8203018 , 15089.44710305,  9160.02366093,\n",
       "        8422.39205466, 15237.40080589, 12830.48827214, 14916.01481965,\n",
       "        7554.04220972, 25770.61430485,  9150.75514462,  1840.92544388,\n",
       "        4007.17681664, 14347.20011501, 35443.71508845,  9623.00324444,\n",
       "       12781.89783506,  5252.18303111,  4827.83336987,  3912.05400906,\n",
       "        2760.57273202,  8956.60353606,  6940.31705336,  2299.47201174,\n",
       "       13066.47928988,  8870.89422024,  5947.60251826,   702.41780339,\n",
       "        9486.30810737,  4767.12769363, 32803.05631501, 28220.95473177,\n",
       "       36682.29098973,  5713.60044132,  8460.84081904,  8181.79832494,\n",
       "        3594.05410934, 31481.70705087,  7123.99725445, 28046.44181657,\n",
       "       35946.71019647,  6880.83930287, 13062.2003585 ,  9785.05915526,\n",
       "        8275.78827367, 12704.58305063, 30018.89811183, 17280.38190557,\n",
       "       11821.87054421,  3946.39687919, -1208.93697736, 12210.56881912,\n",
       "       30801.08612857, 12877.72843535, 11356.02788536,  7917.50923558,\n",
       "        3603.73167005,  7240.9046432 ,  7298.52636017, 10652.26284474,\n",
       "       33510.93829987, 39097.40111375, 12027.42332676,  8317.04673459,\n",
       "       16525.86114472, 15525.40054809,  9625.96004555,  9391.95796861,\n",
       "        8767.73204198,  2732.70063646, 10229.37182705,  3691.96878692,\n",
       "       10726.68861135, 16109.66727056,  6529.58270433,  2110.20537431,\n",
       "       14448.06812718,   207.91340474, 13951.52384733,  8523.17190525,\n",
       "       13008.33709437, 36187.27782242, 33326.13187981, 35102.47569288,\n",
       "        5725.22252627,  6140.6819809 , 16318.88226229,  8269.41407526,\n",
       "       37383.28519853,  5039.58947227,  8166.59745864, 10067.6501631 ,\n",
       "       29845.60396084,  5279.30440086,  3434.84308606, 16736.52580543,\n",
       "        3689.95860168,  5978.77525248, 10342.79805929,  -876.63158885,\n",
       "       29082.3230824 ,  8415.47426103, 10036.24231477,  5508.56315295,\n",
       "        7603.55841626, 11302.87909502, 28826.34044409,  9307.39516949,\n",
       "       10795.26530001,  6474.39567633,  4263.23335932,   974.11722515,\n",
       "        7665.73834981, 11032.31429997, 10239.58935452,  8604.46468223,\n",
       "        6198.86633402,  4119.91746153])"
      ]
     },
     "execution_count": 31,
     "metadata": {},
     "output_type": "execute_result"
    }
   ],
   "source": [
    "y_predicts = reg.predict(scaled_x_test)\n",
    "y_predicts"
   ]
  },
  {
   "cell_type": "code",
   "execution_count": 32,
   "id": "da8e586d",
   "metadata": {},
   "outputs": [
    {
     "data": {
      "text/plain": [
       "array([ 3702.53614133,   -25.72757573,    25.72757573,  2047.18400361,\n",
       "         456.41513983,  4781.13293962, -4781.13293962,  -115.62339244,\n",
       "        -164.99692266,    56.56303463,   220.83755047])"
      ]
     },
     "execution_count": 32,
     "metadata": {},
     "output_type": "execute_result"
    }
   ],
   "source": [
    "# Slope(m) value(s)\n",
    "reg.coef_"
   ]
  },
  {
   "cell_type": "code",
   "execution_count": 33,
   "id": "07bcd836",
   "metadata": {},
   "outputs": [
    {
     "data": {
      "text/plain": [
       "13334.92693622768"
      ]
     },
     "execution_count": 33,
     "metadata": {},
     "output_type": "execute_result"
    }
   ],
   "source": [
    "# Interchept(C) value\n",
    "reg.intercept_"
   ]
  },
  {
   "cell_type": "code",
   "execution_count": 34,
   "id": "d5e8aa6a",
   "metadata": {},
   "outputs": [
    {
     "data": {
      "text/plain": [
       "11"
      ]
     },
     "execution_count": 34,
     "metadata": {},
     "output_type": "execute_result"
    }
   ],
   "source": [
    "#Number of features considered\n",
    "reg.n_features_in_"
   ]
  },
  {
   "cell_type": "code",
   "execution_count": 35,
   "id": "7d191699",
   "metadata": {},
   "outputs": [
    {
     "data": {
      "text/plain": [
       "{'copy_X': True,\n",
       " 'fit_intercept': True,\n",
       " 'n_jobs': None,\n",
       " 'normalize': 'deprecated',\n",
       " 'positive': False}"
      ]
     },
     "execution_count": 35,
     "metadata": {},
     "output_type": "execute_result"
    }
   ],
   "source": [
    "reg.get_params()"
   ]
  },
  {
   "cell_type": "raw",
   "id": "03e2f862",
   "metadata": {},
   "source": []
  },
  {
   "cell_type": "markdown",
   "id": "1a59eb56",
   "metadata": {},
   "source": [
    "#### Model Evaluation"
   ]
  },
  {
   "cell_type": "code",
   "execution_count": 36,
   "id": "376b9903",
   "metadata": {},
   "outputs": [
    {
     "name": "stdout",
     "output_type": "stream",
     "text": [
      "R Squared value : 0.7629364678436203\n",
      "Mean Absolute Error : 4159.544857087318\n",
      "Mean Squared Error : 34092642.87049621\n"
     ]
    }
   ],
   "source": [
    "from sklearn.metrics import r2_score, mean_absolute_error, mean_squared_error, mean_squared_log_error\n",
    "\n",
    "score = r2_score(y_test, y_predicts)\n",
    "print('R Squared value :', score)\n",
    "\n",
    "mae = mean_absolute_error(y_test, y_predicts)\n",
    "print('Mean Absolute Error :', mae)\n",
    "\n",
    "mse = mean_squared_error(y_test, y_predicts)\n",
    "print('Mean Squared Error :', mse)"
   ]
  },
  {
   "cell_type": "raw",
   "id": "ac7fa7ce",
   "metadata": {},
   "source": []
  },
  {
   "cell_type": "code",
   "execution_count": 37,
   "id": "6480fd2a",
   "metadata": {},
   "outputs": [
    {
     "data": {
      "text/plain": [
       "array([0.68661061, 0.81571   , 0.7945542 , 0.67014673, 0.76236376,\n",
       "       0.7761038 , 0.74954802, 0.66348858, 0.76453991, 0.64578839])"
      ]
     },
     "execution_count": 37,
     "metadata": {},
     "output_type": "execute_result"
    }
   ],
   "source": [
    "#Cross validation\n",
    "from sklearn.model_selection import cross_val_score, KFold\n",
    "k_folds = KFold(n_splits=10, shuffle=True, random_state=1)\n",
    "\n",
    "cv_score = cross_val_score(reg, scaled_x_train, y_train, cv=k_folds, scoring='r2')\n",
    "cv_score"
   ]
  },
  {
   "cell_type": "code",
   "execution_count": 38,
   "id": "d049dea9",
   "metadata": {},
   "outputs": [
    {
     "data": {
      "text/plain": [
       "0.7328854007338055"
      ]
     },
     "execution_count": 38,
     "metadata": {},
     "output_type": "execute_result"
    }
   ],
   "source": [
    "cv_score.mean()"
   ]
  },
  {
   "cell_type": "raw",
   "id": "9977be61",
   "metadata": {},
   "source": []
  },
  {
   "cell_type": "code",
   "execution_count": 39,
   "id": "fc921272",
   "metadata": {},
   "outputs": [
    {
     "data": {
      "text/plain": [
       "GridSearchCV(cv=10, estimator=Ridge(),\n",
       "             param_grid={'alpha': [1e-15, 1e-10, 1e-08, 0.001, 0.01, 1, 5, 10,\n",
       "                                   20, 30, 35, 40, 45, 50, 55, 100]},\n",
       "             return_train_score=True, scoring='neg_mean_squared_error')"
      ]
     },
     "execution_count": 39,
     "metadata": {},
     "output_type": "execute_result"
    }
   ],
   "source": [
    "#Ridge regression\n",
    "from sklearn.linear_model import Ridge\n",
    "from sklearn.model_selection import GridSearchCV\n",
    "\n",
    "ridge = Ridge()\n",
    "params = {'alpha':[1e-15,1e-10,1e-8,1e-3,1e-2,1,5,10,20,30,35,40,45,50,55,100]}\n",
    "ridge_regressor = GridSearchCV(ridge, param_grid = params, scoring='neg_mean_squared_error', cv=10, verbose=0, return_train_score=True)\n",
    "\n",
    "ridge_model = ridge_regressor.fit(scaled_x_train, y_train)\n",
    "ridge_model"
   ]
  },
  {
   "cell_type": "code",
   "execution_count": 40,
   "id": "a48be81d",
   "metadata": {},
   "outputs": [
    {
     "data": {
      "text/plain": [
       "array([ 8.88566008e+03,  7.07443990e+03,  3.65773162e+04,  9.44721203e+03,\n",
       "        2.67902922e+04,  1.10170950e+04,  1.50435177e+02,  1.70695477e+04,\n",
       "        1.07553164e+03,  1.12180022e+04,  2.78246640e+04,  9.42072469e+03,\n",
       "        5.01591829e+03,  3.79315543e+04,  3.99197832e+04,  3.66556156e+04,\n",
       "        1.49836109e+04,  3.53875081e+04,  8.87630464e+03,  3.11642606e+04,\n",
       "        3.77658152e+03,  1.02269857e+04,  2.53806323e+03,  7.15496618e+03,\n",
       "        1.11757193e+04,  1.29901339e+04,  1.45913563e+04,  6.01938986e+03,\n",
       "        9.88384881e+03,  2.09507430e+03,  8.98638482e+03,  1.30988644e+04,\n",
       "        4.36347549e+03,  3.25317971e+03,  4.58563896e+03,  1.31905346e+04,\n",
       "        1.97048190e+03,  8.82678186e+03,  3.29297069e+04,  3.21747285e+04,\n",
       "        3.71494045e+03,  4.40190936e+03,  1.41761012e+04,  1.15654976e+04,\n",
       "        8.61911179e+03,  1.22450980e+04,  5.18812374e+03,  3.04766675e+03,\n",
       "        3.49973004e+04,  8.99777312e+03,  1.56739400e+04,  2.21297600e+03,\n",
       "        1.23454823e+04,  1.59735937e+03,  1.33431869e+04,  1.26304100e+04,\n",
       "        4.46529288e+03,  3.18561986e+04,  1.33984101e+04,  1.29254332e+04,\n",
       "        1.42469119e+04,  1.02351161e+04,  1.64309347e+04,  7.67304442e+03,\n",
       "        1.18632359e+04,  4.00740648e+03,  2.63238113e+04,  1.07284211e+04,\n",
       "        2.07572975e+03,  6.39360424e+03,  1.08317481e+04,  1.15567227e+04,\n",
       "        1.08015074e+04,  9.01070314e+03,  1.18582313e+04,  6.55333674e+03,\n",
       "        7.24141900e+03,  1.07495749e+04,  6.29185696e+03,  8.67714975e+03,\n",
       "        3.69108353e+03,  3.64793836e+04,  6.33620814e+03,  3.04556140e+04,\n",
       "        3.44527784e+04,  3.51237835e+04,  6.80872384e+03,  1.30120921e+04,\n",
       "        9.86144742e+03,  1.45381725e+04,  1.76437713e+04,  3.47708143e+04,\n",
       "        3.26915750e+04,  6.22054999e+03,  3.15877245e+04,  9.57597322e+03,\n",
       "        2.90199680e+04,  3.47232604e+03,  2.78554146e+04,  5.72882300e+03,\n",
       "        5.35954559e+03,  1.92301680e+03,  1.14513891e+04,  1.51421119e+04,\n",
       "        1.18446252e+04,  4.18764655e+03,  9.74065689e+03,  3.13344871e+04,\n",
       "        2.06713050e+01,  3.22768535e+04,  3.45257618e+03,  1.00873303e+04,\n",
       "        1.43033674e+04,  3.13034515e+04,  1.14364722e+04,  4.05517712e+03,\n",
       "        1.32600807e+04,  3.14689418e+04,  7.86657926e+03,  3.30822700e+03,\n",
       "        8.40661387e+03,  1.06434624e+04,  1.51626577e+04,  5.57907425e+03,\n",
       "        3.67821296e+03,  1.01503510e+04,  1.06738085e+04,  1.12216828e+04,\n",
       "        1.42703024e+04,  7.37049612e+03,  5.18695711e+03,  9.02899499e+03,\n",
       "        9.06491516e+03,  1.25687140e+04,  8.39927105e+03,  1.54966996e+04,\n",
       "        8.55284921e+03,  3.16784845e+04,  3.55085432e+04,  3.13119102e+04,\n",
       "        6.01258876e+03,  1.26351452e+04,  5.94557162e+03,  1.44980946e+04,\n",
       "        2.40910879e+03,  3.27499335e+04,  6.29675710e+03,  5.08393316e+03,\n",
       "        1.42329096e+04,  7.07487420e+03,  3.82566451e+04,  3.07995454e+03,\n",
       "        5.82086780e+03,  3.14740976e+04,  1.15403574e+04,  8.61754992e+03,\n",
       "        1.49661702e+04,  9.58116441e+03,  2.65991393e+04,  3.32466183e+04,\n",
       "        1.44890108e+04,  1.62317087e+03,  1.32690819e+04,  2.33916792e+03,\n",
       "        5.48427272e+03,  1.14233459e+04,  3.95926119e+04,  3.62209432e+04,\n",
       "        3.37950169e+04,  3.94379603e+03,  7.46047609e+03,  8.67636574e+03,\n",
       "        1.26092665e+04,  4.88768383e+03,  2.08663516e+03,  3.16941824e+04,\n",
       "        2.49708702e+04,  1.74544897e+04,  2.59972434e+04,  1.01707294e+04,\n",
       "        3.69841148e+04, -5.10999538e+02,  6.85603712e+03,  7.79399316e+03,\n",
       "        4.34615352e+03,  5.10747100e+03,  6.00203709e+03,  4.35197670e+03,\n",
       "        1.49835650e+04,  1.12745174e+04,  6.97459012e+03,  2.52004952e+03,\n",
       "        1.52393738e+03,  3.17343525e+04,  1.63800916e+04,  1.18356066e+04,\n",
       "        1.20486588e+03,  1.24604561e+04,  1.55473030e+03,  8.79597996e+03,\n",
       "        1.85825514e+03,  3.37520118e+04,  1.07146791e+04,  2.62369872e+03,\n",
       "        2.51119089e+04,  2.58296527e+04,  9.56738968e+03,  1.64154557e+03,\n",
       "        1.32184830e+04,  1.10477252e+03,  1.05735626e+04,  1.03331712e+04,\n",
       "        1.68981557e+04,  2.64612885e+04,  6.77218606e+03,  5.19491919e+03,\n",
       "        5.59988129e+03,  1.29101425e+04,  1.09140473e+04,  8.12733889e+03,\n",
       "        5.13861002e+03,  1.24612708e+04,  1.36801549e+04,  3.53264939e+04,\n",
       "        4.28062058e+03,  2.85416509e+04, -8.88263751e+02,  2.99249000e+03,\n",
       "        1.09427539e+04,  1.53311881e+04,  5.14110200e+03,  6.88656749e+03,\n",
       "        3.80163028e+03,  3.11910904e+04,  7.24086397e+03,  1.23585095e+04,\n",
       "        5.65078829e+03,  9.71986945e+03,  3.57441623e+04,  4.35564438e+03,\n",
       "        9.67794779e+03,  3.09478565e+04,  5.75136325e+03,  4.35439843e+03,\n",
       "        1.15838347e+03,  4.95772842e+03,  4.52612037e+03,  6.64028904e+03,\n",
       "        1.82715699e+04, -1.44797843e+03,  2.41787730e+03,  1.07469123e+04,\n",
       "        3.19290144e+03,  1.02239237e+04,  3.68251855e+03,  4.87905051e+03,\n",
       "        1.25983472e+04,  6.30175488e+03,  8.36532290e+03,  7.45759277e+03,\n",
       "        8.79113754e+03,  1.04938869e+04,  2.74269538e+04,  3.87184063e+04,\n",
       "        1.17799409e+04,  7.77490386e+03,  4.04644303e+04,  1.23453448e+04,\n",
       "        6.99870535e+03,  8.35417894e+03,  8.96370462e+03,  1.07104840e+04,\n",
       "        9.95436595e+03,  1.75320466e+04,  1.13825136e+03,  2.34001685e+04,\n",
       "        1.27630787e+04,  3.29559842e+04,  5.22409174e+03,  1.30694972e+04,\n",
       "        1.03932018e+04,  1.78201910e+04,  9.83318333e+03,  1.15302054e+04,\n",
       "        3.20409206e+04,  3.43388856e+03,  1.34438257e+04,  3.89131447e+04,\n",
       "        5.58407819e+03,  6.24447462e+03,  3.45319144e+03,  1.15540868e+04,\n",
       "        2.51477427e+04,  1.40628557e+04,  8.97358294e+03,  1.01689826e+04,\n",
       "        1.33394716e+04,  1.02382858e+03,  2.31124807e+03,  3.03794536e+04,\n",
       "        2.98873349e+04,  1.34443974e+04,  3.64292079e+03,  2.51740064e+04,\n",
       "        1.32718038e+04,  3.03612077e+04,  3.51823825e+03,  3.85663336e+04,\n",
       "        1.10378366e+04,  4.74517780e+03,  6.77692120e+03,  2.43652361e+03,\n",
       "        2.56983403e+04,  1.44633392e+04,  6.88760734e+02,  1.27244441e+04,\n",
       "        1.26010692e+04,  1.49333170e+04,  3.45281522e+04,  1.42742378e+04,\n",
       "        3.12379183e+04,  9.98318018e+03,  1.81996853e+04,  6.09088908e+03,\n",
       "        8.76453083e+03,  9.42155170e+03,  1.50632716e+04,  9.18178881e+03,\n",
       "        8.44309677e+03,  1.51914700e+04,  1.27991466e+04,  1.48682539e+04,\n",
       "        7.59613920e+03,  2.57374167e+04,  9.17865505e+03,  1.93236933e+03,\n",
       "        4.09363880e+03,  1.43152253e+04,  3.53082021e+04,  9.64007427e+03,\n",
       "        1.27469906e+04,  5.31155629e+03,  4.89353020e+03,  4.00142168e+03,\n",
       "        2.84182260e+03,  8.96859546e+03,  6.99568775e+03,  2.39792790e+03,\n",
       "        1.30543478e+04,  8.87983008e+03,  6.01033714e+03,  8.17534530e+02,\n",
       "        9.50019345e+03,  4.83870567e+03,  3.26837412e+04,  2.81622235e+04,\n",
       "        3.65242122e+04,  5.76708604e+03,  8.49893517e+03,  8.21473887e+03,\n",
       "        3.67109875e+03,  3.13709210e+04,  7.16457331e+03,  2.79896758e+04,\n",
       "        3.57940959e+04,  6.93204398e+03,  1.30332972e+04,  9.79397795e+03,\n",
       "        8.29425638e+03,  1.26839667e+04,  2.99232882e+04,  1.72166466e+04,\n",
       "        1.18133818e+04,  4.01855044e+03, -1.07789460e+03,  1.21863934e+04,\n",
       "        3.07080937e+04,  1.28680026e+04,  1.13552591e+04,  7.93976625e+03,\n",
       "        3.68388658e+03,  7.28116825e+03,  7.33206705e+03,  1.06623277e+04,\n",
       "        3.33828744e+04,  3.89081206e+04,  1.20097053e+04,  8.33212366e+03,\n",
       "        1.64571405e+04,  1.54793658e+04,  9.64945081e+03,  9.40619971e+03,\n",
       "        8.79044535e+03,  2.83048265e+03,  1.02371290e+04,  3.77728347e+03,\n",
       "        1.07226130e+04,  1.60455937e+04,  6.58580455e+03,  2.19827645e+03,\n",
       "        1.44175850e+04,  3.29383629e+02,  1.39046815e+04,  8.54932242e+03,\n",
       "        1.29998633e+04,  3.60264786e+04,  3.32202715e+04,  3.49667528e+04,\n",
       "        5.78921196e+03,  6.19406265e+03,  1.62755206e+04,  8.30638500e+03,\n",
       "        3.72191829e+04,  5.10114081e+03,  8.19694872e+03,  1.00825178e+04,\n",
       "        2.97658468e+04,  5.35787160e+03,  3.50940349e+03,  1.66698370e+04,\n",
       "        3.77299805e+03,  6.04522738e+03,  1.03497807e+04, -7.47409217e+02,\n",
       "        2.90231008e+04,  8.44562954e+03,  1.00549273e+04,  5.57170041e+03,\n",
       "        7.64396905e+03,  1.13080054e+04,  2.87550561e+04,  9.33560973e+03,\n",
       "        1.07926296e+04,  6.51453489e+03,  4.33743223e+03,  1.07797602e+03,\n",
       "        7.70837864e+03,  1.10477256e+04,  1.02409547e+04,  8.63238885e+03,\n",
       "        6.25788147e+03,  4.20357165e+03])"
      ]
     },
     "execution_count": 40,
     "metadata": {},
     "output_type": "execute_result"
    }
   ],
   "source": [
    "#predictions\n",
    "y_predicts_02 = ridge_model.predict(scaled_x_test)\n",
    "y_predicts_02"
   ]
  },
  {
   "cell_type": "code",
   "execution_count": 41,
   "id": "8fd4b039",
   "metadata": {},
   "outputs": [
    {
     "data": {
      "text/html": [
       "<div>\n",
       "<style scoped>\n",
       "    .dataframe tbody tr th:only-of-type {\n",
       "        vertical-align: middle;\n",
       "    }\n",
       "\n",
       "    .dataframe tbody tr th {\n",
       "        vertical-align: top;\n",
       "    }\n",
       "\n",
       "    .dataframe thead th {\n",
       "        text-align: right;\n",
       "    }\n",
       "</style>\n",
       "<table border=\"1\" class=\"dataframe\">\n",
       "  <thead>\n",
       "    <tr style=\"text-align: right;\">\n",
       "      <th></th>\n",
       "      <th>mean_fit_time</th>\n",
       "      <th>std_fit_time</th>\n",
       "      <th>mean_score_time</th>\n",
       "      <th>std_score_time</th>\n",
       "      <th>param_alpha</th>\n",
       "      <th>params</th>\n",
       "      <th>split0_test_score</th>\n",
       "      <th>split1_test_score</th>\n",
       "      <th>split2_test_score</th>\n",
       "      <th>split3_test_score</th>\n",
       "      <th>...</th>\n",
       "      <th>split2_train_score</th>\n",
       "      <th>split3_train_score</th>\n",
       "      <th>split4_train_score</th>\n",
       "      <th>split5_train_score</th>\n",
       "      <th>split6_train_score</th>\n",
       "      <th>split7_train_score</th>\n",
       "      <th>split8_train_score</th>\n",
       "      <th>split9_train_score</th>\n",
       "      <th>mean_train_score</th>\n",
       "      <th>std_train_score</th>\n",
       "    </tr>\n",
       "  </thead>\n",
       "  <tbody>\n",
       "    <tr>\n",
       "      <th>0</th>\n",
       "      <td>0.000801</td>\n",
       "      <td>0.002402</td>\n",
       "      <td>0.000947</td>\n",
       "      <td>0.002394</td>\n",
       "      <td>0.0</td>\n",
       "      <td>{'alpha': 1e-15}</td>\n",
       "      <td>-3.844233e+07</td>\n",
       "      <td>-2.510976e+07</td>\n",
       "      <td>-3.684477e+07</td>\n",
       "      <td>-3.800051e+07</td>\n",
       "      <td>...</td>\n",
       "      <td>-3.531773e+07</td>\n",
       "      <td>-3.521239e+07</td>\n",
       "      <td>-3.559439e+07</td>\n",
       "      <td>-3.463039e+07</td>\n",
       "      <td>-3.509000e+07</td>\n",
       "      <td>-3.522307e+07</td>\n",
       "      <td>-3.556776e+07</td>\n",
       "      <td>-3.555028e+07</td>\n",
       "      <td>-3.539378e+07</td>\n",
       "      <td>490578.182432</td>\n",
       "    </tr>\n",
       "    <tr>\n",
       "      <th>1</th>\n",
       "      <td>0.000050</td>\n",
       "      <td>0.000150</td>\n",
       "      <td>0.000800</td>\n",
       "      <td>0.002401</td>\n",
       "      <td>0.0</td>\n",
       "      <td>{'alpha': 1e-10}</td>\n",
       "      <td>-3.844233e+07</td>\n",
       "      <td>-2.510976e+07</td>\n",
       "      <td>-3.684477e+07</td>\n",
       "      <td>-3.800051e+07</td>\n",
       "      <td>...</td>\n",
       "      <td>-3.531773e+07</td>\n",
       "      <td>-3.521239e+07</td>\n",
       "      <td>-3.559439e+07</td>\n",
       "      <td>-3.463039e+07</td>\n",
       "      <td>-3.509000e+07</td>\n",
       "      <td>-3.522307e+07</td>\n",
       "      <td>-3.556776e+07</td>\n",
       "      <td>-3.555028e+07</td>\n",
       "      <td>-3.539378e+07</td>\n",
       "      <td>490578.182432</td>\n",
       "    </tr>\n",
       "    <tr>\n",
       "      <th>2</th>\n",
       "      <td>0.000772</td>\n",
       "      <td>0.002317</td>\n",
       "      <td>0.000000</td>\n",
       "      <td>0.000000</td>\n",
       "      <td>0.0</td>\n",
       "      <td>{'alpha': 1e-08}</td>\n",
       "      <td>-3.844233e+07</td>\n",
       "      <td>-2.510976e+07</td>\n",
       "      <td>-3.684477e+07</td>\n",
       "      <td>-3.800051e+07</td>\n",
       "      <td>...</td>\n",
       "      <td>-3.531773e+07</td>\n",
       "      <td>-3.521239e+07</td>\n",
       "      <td>-3.559439e+07</td>\n",
       "      <td>-3.463039e+07</td>\n",
       "      <td>-3.509000e+07</td>\n",
       "      <td>-3.522307e+07</td>\n",
       "      <td>-3.556776e+07</td>\n",
       "      <td>-3.555028e+07</td>\n",
       "      <td>-3.539378e+07</td>\n",
       "      <td>490578.182432</td>\n",
       "    </tr>\n",
       "    <tr>\n",
       "      <th>3</th>\n",
       "      <td>0.001618</td>\n",
       "      <td>0.004855</td>\n",
       "      <td>0.000000</td>\n",
       "      <td>0.000000</td>\n",
       "      <td>0.001</td>\n",
       "      <td>{'alpha': 0.001}</td>\n",
       "      <td>-3.844234e+07</td>\n",
       "      <td>-2.510978e+07</td>\n",
       "      <td>-3.684477e+07</td>\n",
       "      <td>-3.800051e+07</td>\n",
       "      <td>...</td>\n",
       "      <td>-3.531773e+07</td>\n",
       "      <td>-3.521239e+07</td>\n",
       "      <td>-3.559439e+07</td>\n",
       "      <td>-3.463039e+07</td>\n",
       "      <td>-3.509000e+07</td>\n",
       "      <td>-3.522307e+07</td>\n",
       "      <td>-3.556776e+07</td>\n",
       "      <td>-3.555028e+07</td>\n",
       "      <td>-3.539378e+07</td>\n",
       "      <td>490578.182432</td>\n",
       "    </tr>\n",
       "    <tr>\n",
       "      <th>4</th>\n",
       "      <td>0.000000</td>\n",
       "      <td>0.000000</td>\n",
       "      <td>0.000000</td>\n",
       "      <td>0.000000</td>\n",
       "      <td>0.01</td>\n",
       "      <td>{'alpha': 0.01}</td>\n",
       "      <td>-3.844243e+07</td>\n",
       "      <td>-2.510993e+07</td>\n",
       "      <td>-3.684483e+07</td>\n",
       "      <td>-3.800058e+07</td>\n",
       "      <td>...</td>\n",
       "      <td>-3.531773e+07</td>\n",
       "      <td>-3.521239e+07</td>\n",
       "      <td>-3.559439e+07</td>\n",
       "      <td>-3.463039e+07</td>\n",
       "      <td>-3.509000e+07</td>\n",
       "      <td>-3.522307e+07</td>\n",
       "      <td>-3.556776e+07</td>\n",
       "      <td>-3.555028e+07</td>\n",
       "      <td>-3.539378e+07</td>\n",
       "      <td>490578.182432</td>\n",
       "    </tr>\n",
       "    <tr>\n",
       "      <th>5</th>\n",
       "      <td>0.000000</td>\n",
       "      <td>0.000000</td>\n",
       "      <td>0.000000</td>\n",
       "      <td>0.000000</td>\n",
       "      <td>1</td>\n",
       "      <td>{'alpha': 1}</td>\n",
       "      <td>-3.845323e+07</td>\n",
       "      <td>-2.512667e+07</td>\n",
       "      <td>-3.685116e+07</td>\n",
       "      <td>-3.800842e+07</td>\n",
       "      <td>...</td>\n",
       "      <td>-3.531779e+07</td>\n",
       "      <td>-3.521245e+07</td>\n",
       "      <td>-3.559446e+07</td>\n",
       "      <td>-3.463045e+07</td>\n",
       "      <td>-3.509007e+07</td>\n",
       "      <td>-3.522313e+07</td>\n",
       "      <td>-3.556782e+07</td>\n",
       "      <td>-3.555034e+07</td>\n",
       "      <td>-3.539384e+07</td>\n",
       "      <td>490578.183367</td>\n",
       "    </tr>\n",
       "    <tr>\n",
       "      <th>6</th>\n",
       "      <td>0.001563</td>\n",
       "      <td>0.004688</td>\n",
       "      <td>0.000000</td>\n",
       "      <td>0.000000</td>\n",
       "      <td>5</td>\n",
       "      <td>{'alpha': 5}</td>\n",
       "      <td>-3.849786e+07</td>\n",
       "      <td>-2.519570e+07</td>\n",
       "      <td>-3.687782e+07</td>\n",
       "      <td>-3.804145e+07</td>\n",
       "      <td>...</td>\n",
       "      <td>-3.531931e+07</td>\n",
       "      <td>-3.521399e+07</td>\n",
       "      <td>-3.559601e+07</td>\n",
       "      <td>-3.463203e+07</td>\n",
       "      <td>-3.509160e+07</td>\n",
       "      <td>-3.522468e+07</td>\n",
       "      <td>-3.556937e+07</td>\n",
       "      <td>-3.555186e+07</td>\n",
       "      <td>-3.539538e+07</td>\n",
       "      <td>490578.079962</td>\n",
       "    </tr>\n",
       "    <tr>\n",
       "      <th>7</th>\n",
       "      <td>0.001295</td>\n",
       "      <td>0.003715</td>\n",
       "      <td>0.000000</td>\n",
       "      <td>0.000000</td>\n",
       "      <td>10</td>\n",
       "      <td>{'alpha': 10}</td>\n",
       "      <td>-3.855589e+07</td>\n",
       "      <td>-2.528515e+07</td>\n",
       "      <td>-3.691360e+07</td>\n",
       "      <td>-3.808571e+07</td>\n",
       "      <td>...</td>\n",
       "      <td>-3.532398e+07</td>\n",
       "      <td>-3.521875e+07</td>\n",
       "      <td>-3.560080e+07</td>\n",
       "      <td>-3.463690e+07</td>\n",
       "      <td>-3.509635e+07</td>\n",
       "      <td>-3.522947e+07</td>\n",
       "      <td>-3.557414e+07</td>\n",
       "      <td>-3.555656e+07</td>\n",
       "      <td>-3.540013e+07</td>\n",
       "      <td>490577.163658</td>\n",
       "    </tr>\n",
       "    <tr>\n",
       "      <th>8</th>\n",
       "      <td>0.001608</td>\n",
       "      <td>0.003216</td>\n",
       "      <td>0.000000</td>\n",
       "      <td>0.000000</td>\n",
       "      <td>20</td>\n",
       "      <td>{'alpha': 20}</td>\n",
       "      <td>-3.867915e+07</td>\n",
       "      <td>-2.547412e+07</td>\n",
       "      <td>-3.699305e+07</td>\n",
       "      <td>-3.818383e+07</td>\n",
       "      <td>...</td>\n",
       "      <td>-3.534228e+07</td>\n",
       "      <td>-3.523737e+07</td>\n",
       "      <td>-3.561958e+07</td>\n",
       "      <td>-3.465597e+07</td>\n",
       "      <td>-3.511494e+07</td>\n",
       "      <td>-3.524820e+07</td>\n",
       "      <td>-3.559282e+07</td>\n",
       "      <td>-3.557497e+07</td>\n",
       "      <td>-3.541875e+07</td>\n",
       "      <td>490569.494440</td>\n",
       "    </tr>\n",
       "    <tr>\n",
       "      <th>9</th>\n",
       "      <td>0.000050</td>\n",
       "      <td>0.000150</td>\n",
       "      <td>0.000067</td>\n",
       "      <td>0.000200</td>\n",
       "      <td>30</td>\n",
       "      <td>{'alpha': 30}</td>\n",
       "      <td>-3.881157e+07</td>\n",
       "      <td>-2.567582e+07</td>\n",
       "      <td>-3.708261e+07</td>\n",
       "      <td>-3.829409e+07</td>\n",
       "      <td>...</td>\n",
       "      <td>-3.537203e+07</td>\n",
       "      <td>-3.526760e+07</td>\n",
       "      <td>-3.565009e+07</td>\n",
       "      <td>-3.468695e+07</td>\n",
       "      <td>-3.514515e+07</td>\n",
       "      <td>-3.527860e+07</td>\n",
       "      <td>-3.562315e+07</td>\n",
       "      <td>-3.560486e+07</td>\n",
       "      <td>-3.544899e+07</td>\n",
       "      <td>490548.981225</td>\n",
       "    </tr>\n",
       "    <tr>\n",
       "      <th>10</th>\n",
       "      <td>0.000661</td>\n",
       "      <td>0.001982</td>\n",
       "      <td>0.000000</td>\n",
       "      <td>0.000000</td>\n",
       "      <td>35</td>\n",
       "      <td>{'alpha': 35}</td>\n",
       "      <td>-3.888105e+07</td>\n",
       "      <td>-2.578120e+07</td>\n",
       "      <td>-3.713102e+07</td>\n",
       "      <td>-3.835356e+07</td>\n",
       "      <td>...</td>\n",
       "      <td>-3.539101e+07</td>\n",
       "      <td>-3.528686e+07</td>\n",
       "      <td>-3.566955e+07</td>\n",
       "      <td>-3.470671e+07</td>\n",
       "      <td>-3.516442e+07</td>\n",
       "      <td>-3.529799e+07</td>\n",
       "      <td>-3.564249e+07</td>\n",
       "      <td>-3.562391e+07</td>\n",
       "      <td>-3.546827e+07</td>\n",
       "      <td>490532.214089</td>\n",
       "    </tr>\n",
       "    <tr>\n",
       "      <th>11</th>\n",
       "      <td>0.000000</td>\n",
       "      <td>0.000000</td>\n",
       "      <td>0.001593</td>\n",
       "      <td>0.004779</td>\n",
       "      <td>40</td>\n",
       "      <td>{'alpha': 40}</td>\n",
       "      <td>-3.895264e+07</td>\n",
       "      <td>-2.588947e+07</td>\n",
       "      <td>-3.718178e+07</td>\n",
       "      <td>-3.841581e+07</td>\n",
       "      <td>...</td>\n",
       "      <td>-3.541263e+07</td>\n",
       "      <td>-3.530880e+07</td>\n",
       "      <td>-3.569171e+07</td>\n",
       "      <td>-3.472921e+07</td>\n",
       "      <td>-3.518637e+07</td>\n",
       "      <td>-3.532007e+07</td>\n",
       "      <td>-3.566451e+07</td>\n",
       "      <td>-3.564561e+07</td>\n",
       "      <td>-3.549022e+07</td>\n",
       "      <td>490510.302573</td>\n",
       "    </tr>\n",
       "    <tr>\n",
       "      <th>12</th>\n",
       "      <td>0.000000</td>\n",
       "      <td>0.000000</td>\n",
       "      <td>0.000814</td>\n",
       "      <td>0.002443</td>\n",
       "      <td>45</td>\n",
       "      <td>{'alpha': 45}</td>\n",
       "      <td>-3.902626e+07</td>\n",
       "      <td>-2.600055e+07</td>\n",
       "      <td>-3.723483e+07</td>\n",
       "      <td>-3.848074e+07</td>\n",
       "      <td>...</td>\n",
       "      <td>-3.543683e+07</td>\n",
       "      <td>-3.533334e+07</td>\n",
       "      <td>-3.571651e+07</td>\n",
       "      <td>-3.475438e+07</td>\n",
       "      <td>-3.521094e+07</td>\n",
       "      <td>-3.534477e+07</td>\n",
       "      <td>-3.568915e+07</td>\n",
       "      <td>-3.566988e+07</td>\n",
       "      <td>-3.551479e+07</td>\n",
       "      <td>490482.700487</td>\n",
       "    </tr>\n",
       "    <tr>\n",
       "      <th>13</th>\n",
       "      <td>0.000050</td>\n",
       "      <td>0.000149</td>\n",
       "      <td>0.000801</td>\n",
       "      <td>0.002403</td>\n",
       "      <td>50</td>\n",
       "      <td>{'alpha': 50}</td>\n",
       "      <td>-3.910187e+07</td>\n",
       "      <td>-2.611434e+07</td>\n",
       "      <td>-3.729011e+07</td>\n",
       "      <td>-3.854830e+07</td>\n",
       "      <td>...</td>\n",
       "      <td>-3.546353e+07</td>\n",
       "      <td>-3.536040e+07</td>\n",
       "      <td>-3.574388e+07</td>\n",
       "      <td>-3.478216e+07</td>\n",
       "      <td>-3.523804e+07</td>\n",
       "      <td>-3.537201e+07</td>\n",
       "      <td>-3.571632e+07</td>\n",
       "      <td>-3.569666e+07</td>\n",
       "      <td>-3.554189e+07</td>\n",
       "      <td>490448.903793</td>\n",
       "    </tr>\n",
       "    <tr>\n",
       "      <th>14</th>\n",
       "      <td>0.000808</td>\n",
       "      <td>0.002424</td>\n",
       "      <td>0.000801</td>\n",
       "      <td>0.002402</td>\n",
       "      <td>55</td>\n",
       "      <td>{'alpha': 55}</td>\n",
       "      <td>-3.917940e+07</td>\n",
       "      <td>-2.623075e+07</td>\n",
       "      <td>-3.734757e+07</td>\n",
       "      <td>-3.861839e+07</td>\n",
       "      <td>...</td>\n",
       "      <td>-3.549268e+07</td>\n",
       "      <td>-3.538992e+07</td>\n",
       "      <td>-3.577374e+07</td>\n",
       "      <td>-3.481247e+07</td>\n",
       "      <td>-3.526762e+07</td>\n",
       "      <td>-3.540174e+07</td>\n",
       "      <td>-3.574597e+07</td>\n",
       "      <td>-3.572588e+07</td>\n",
       "      <td>-3.557146e+07</td>\n",
       "      <td>490408.448078</td>\n",
       "    </tr>\n",
       "    <tr>\n",
       "      <th>15</th>\n",
       "      <td>0.000086</td>\n",
       "      <td>0.000259</td>\n",
       "      <td>0.000000</td>\n",
       "      <td>0.000000</td>\n",
       "      <td>100</td>\n",
       "      <td>{'alpha': 100}</td>\n",
       "      <td>-3.995544e+07</td>\n",
       "      <td>-2.738387e+07</td>\n",
       "      <td>-3.795439e+07</td>\n",
       "      <td>-3.935179e+07</td>\n",
       "      <td>...</td>\n",
       "      <td>-3.585510e+07</td>\n",
       "      <td>-3.575607e+07</td>\n",
       "      <td>-3.614489e+07</td>\n",
       "      <td>-3.518887e+07</td>\n",
       "      <td>-3.563532e+07</td>\n",
       "      <td>-3.577063e+07</td>\n",
       "      <td>-3.611385e+07</td>\n",
       "      <td>-3.608857e+07</td>\n",
       "      <td>-3.593860e+07</td>\n",
       "      <td>489684.901922</td>\n",
       "    </tr>\n",
       "  </tbody>\n",
       "</table>\n",
       "<p>16 rows × 31 columns</p>\n",
       "</div>"
      ],
      "text/plain": [
       "    mean_fit_time  std_fit_time  mean_score_time  std_score_time param_alpha  \\\n",
       "0        0.000801      0.002402         0.000947        0.002394         0.0   \n",
       "1        0.000050      0.000150         0.000800        0.002401         0.0   \n",
       "2        0.000772      0.002317         0.000000        0.000000         0.0   \n",
       "3        0.001618      0.004855         0.000000        0.000000       0.001   \n",
       "4        0.000000      0.000000         0.000000        0.000000        0.01   \n",
       "5        0.000000      0.000000         0.000000        0.000000           1   \n",
       "6        0.001563      0.004688         0.000000        0.000000           5   \n",
       "7        0.001295      0.003715         0.000000        0.000000          10   \n",
       "8        0.001608      0.003216         0.000000        0.000000          20   \n",
       "9        0.000050      0.000150         0.000067        0.000200          30   \n",
       "10       0.000661      0.001982         0.000000        0.000000          35   \n",
       "11       0.000000      0.000000         0.001593        0.004779          40   \n",
       "12       0.000000      0.000000         0.000814        0.002443          45   \n",
       "13       0.000050      0.000149         0.000801        0.002403          50   \n",
       "14       0.000808      0.002424         0.000801        0.002402          55   \n",
       "15       0.000086      0.000259         0.000000        0.000000         100   \n",
       "\n",
       "              params  split0_test_score  split1_test_score  split2_test_score  \\\n",
       "0   {'alpha': 1e-15}      -3.844233e+07      -2.510976e+07      -3.684477e+07   \n",
       "1   {'alpha': 1e-10}      -3.844233e+07      -2.510976e+07      -3.684477e+07   \n",
       "2   {'alpha': 1e-08}      -3.844233e+07      -2.510976e+07      -3.684477e+07   \n",
       "3   {'alpha': 0.001}      -3.844234e+07      -2.510978e+07      -3.684477e+07   \n",
       "4    {'alpha': 0.01}      -3.844243e+07      -2.510993e+07      -3.684483e+07   \n",
       "5       {'alpha': 1}      -3.845323e+07      -2.512667e+07      -3.685116e+07   \n",
       "6       {'alpha': 5}      -3.849786e+07      -2.519570e+07      -3.687782e+07   \n",
       "7      {'alpha': 10}      -3.855589e+07      -2.528515e+07      -3.691360e+07   \n",
       "8      {'alpha': 20}      -3.867915e+07      -2.547412e+07      -3.699305e+07   \n",
       "9      {'alpha': 30}      -3.881157e+07      -2.567582e+07      -3.708261e+07   \n",
       "10     {'alpha': 35}      -3.888105e+07      -2.578120e+07      -3.713102e+07   \n",
       "11     {'alpha': 40}      -3.895264e+07      -2.588947e+07      -3.718178e+07   \n",
       "12     {'alpha': 45}      -3.902626e+07      -2.600055e+07      -3.723483e+07   \n",
       "13     {'alpha': 50}      -3.910187e+07      -2.611434e+07      -3.729011e+07   \n",
       "14     {'alpha': 55}      -3.917940e+07      -2.623075e+07      -3.734757e+07   \n",
       "15    {'alpha': 100}      -3.995544e+07      -2.738387e+07      -3.795439e+07   \n",
       "\n",
       "    split3_test_score  ...  split2_train_score  split3_train_score  \\\n",
       "0       -3.800051e+07  ...       -3.531773e+07       -3.521239e+07   \n",
       "1       -3.800051e+07  ...       -3.531773e+07       -3.521239e+07   \n",
       "2       -3.800051e+07  ...       -3.531773e+07       -3.521239e+07   \n",
       "3       -3.800051e+07  ...       -3.531773e+07       -3.521239e+07   \n",
       "4       -3.800058e+07  ...       -3.531773e+07       -3.521239e+07   \n",
       "5       -3.800842e+07  ...       -3.531779e+07       -3.521245e+07   \n",
       "6       -3.804145e+07  ...       -3.531931e+07       -3.521399e+07   \n",
       "7       -3.808571e+07  ...       -3.532398e+07       -3.521875e+07   \n",
       "8       -3.818383e+07  ...       -3.534228e+07       -3.523737e+07   \n",
       "9       -3.829409e+07  ...       -3.537203e+07       -3.526760e+07   \n",
       "10      -3.835356e+07  ...       -3.539101e+07       -3.528686e+07   \n",
       "11      -3.841581e+07  ...       -3.541263e+07       -3.530880e+07   \n",
       "12      -3.848074e+07  ...       -3.543683e+07       -3.533334e+07   \n",
       "13      -3.854830e+07  ...       -3.546353e+07       -3.536040e+07   \n",
       "14      -3.861839e+07  ...       -3.549268e+07       -3.538992e+07   \n",
       "15      -3.935179e+07  ...       -3.585510e+07       -3.575607e+07   \n",
       "\n",
       "    split4_train_score  split5_train_score  split6_train_score  \\\n",
       "0        -3.559439e+07       -3.463039e+07       -3.509000e+07   \n",
       "1        -3.559439e+07       -3.463039e+07       -3.509000e+07   \n",
       "2        -3.559439e+07       -3.463039e+07       -3.509000e+07   \n",
       "3        -3.559439e+07       -3.463039e+07       -3.509000e+07   \n",
       "4        -3.559439e+07       -3.463039e+07       -3.509000e+07   \n",
       "5        -3.559446e+07       -3.463045e+07       -3.509007e+07   \n",
       "6        -3.559601e+07       -3.463203e+07       -3.509160e+07   \n",
       "7        -3.560080e+07       -3.463690e+07       -3.509635e+07   \n",
       "8        -3.561958e+07       -3.465597e+07       -3.511494e+07   \n",
       "9        -3.565009e+07       -3.468695e+07       -3.514515e+07   \n",
       "10       -3.566955e+07       -3.470671e+07       -3.516442e+07   \n",
       "11       -3.569171e+07       -3.472921e+07       -3.518637e+07   \n",
       "12       -3.571651e+07       -3.475438e+07       -3.521094e+07   \n",
       "13       -3.574388e+07       -3.478216e+07       -3.523804e+07   \n",
       "14       -3.577374e+07       -3.481247e+07       -3.526762e+07   \n",
       "15       -3.614489e+07       -3.518887e+07       -3.563532e+07   \n",
       "\n",
       "    split7_train_score  split8_train_score  split9_train_score  \\\n",
       "0        -3.522307e+07       -3.556776e+07       -3.555028e+07   \n",
       "1        -3.522307e+07       -3.556776e+07       -3.555028e+07   \n",
       "2        -3.522307e+07       -3.556776e+07       -3.555028e+07   \n",
       "3        -3.522307e+07       -3.556776e+07       -3.555028e+07   \n",
       "4        -3.522307e+07       -3.556776e+07       -3.555028e+07   \n",
       "5        -3.522313e+07       -3.556782e+07       -3.555034e+07   \n",
       "6        -3.522468e+07       -3.556937e+07       -3.555186e+07   \n",
       "7        -3.522947e+07       -3.557414e+07       -3.555656e+07   \n",
       "8        -3.524820e+07       -3.559282e+07       -3.557497e+07   \n",
       "9        -3.527860e+07       -3.562315e+07       -3.560486e+07   \n",
       "10       -3.529799e+07       -3.564249e+07       -3.562391e+07   \n",
       "11       -3.532007e+07       -3.566451e+07       -3.564561e+07   \n",
       "12       -3.534477e+07       -3.568915e+07       -3.566988e+07   \n",
       "13       -3.537201e+07       -3.571632e+07       -3.569666e+07   \n",
       "14       -3.540174e+07       -3.574597e+07       -3.572588e+07   \n",
       "15       -3.577063e+07       -3.611385e+07       -3.608857e+07   \n",
       "\n",
       "    mean_train_score  std_train_score  \n",
       "0      -3.539378e+07    490578.182432  \n",
       "1      -3.539378e+07    490578.182432  \n",
       "2      -3.539378e+07    490578.182432  \n",
       "3      -3.539378e+07    490578.182432  \n",
       "4      -3.539378e+07    490578.182432  \n",
       "5      -3.539384e+07    490578.183367  \n",
       "6      -3.539538e+07    490578.079962  \n",
       "7      -3.540013e+07    490577.163658  \n",
       "8      -3.541875e+07    490569.494440  \n",
       "9      -3.544899e+07    490548.981225  \n",
       "10     -3.546827e+07    490532.214089  \n",
       "11     -3.549022e+07    490510.302573  \n",
       "12     -3.551479e+07    490482.700487  \n",
       "13     -3.554189e+07    490448.903793  \n",
       "14     -3.557146e+07    490408.448078  \n",
       "15     -3.593860e+07    489684.901922  \n",
       "\n",
       "[16 rows x 31 columns]"
      ]
     },
     "execution_count": 41,
     "metadata": {},
     "output_type": "execute_result"
    }
   ],
   "source": [
    "pd.DataFrame(ridge_model.cv_results_)"
   ]
  },
  {
   "cell_type": "code",
   "execution_count": 42,
   "id": "ff152887",
   "metadata": {},
   "outputs": [
    {
     "data": {
      "image/png": "[encoded data removed]",
      "text/plain": [
       "<Figure size 432x288 with 1 Axes>"
      ]
     },
     "metadata": {
      "needs_background": "light"
     },
     "output_type": "display_data"
    }
   ],
   "source": [
    "sns.distplot(y_test-y_predicts_02, )\n",
    "plt.show()"
   ]
  },
  {
   "cell_type": "code",
   "execution_count": 43,
   "id": "943dcbe7",
   "metadata": {},
   "outputs": [
    {
     "name": "stdout",
     "output_type": "stream",
     "text": [
      "R Squared value : 0.762922562583684\n",
      "Mean Absolute Error : 4164.241239814844\n",
      "Mean Squared Error : 34094642.61738567\n"
     ]
    }
   ],
   "source": [
    "#Evaluation\n",
    "from sklearn.metrics import r2_score, mean_absolute_error, mean_squared_error, mean_squared_log_error\n",
    "\n",
    "score = r2_score(y_test, y_predicts_02)\n",
    "print('R Squared value :', score)\n",
    "\n",
    "mae = mean_absolute_error(y_test, y_predicts_02)\n",
    "print('Mean Absolute Error :', mae)\n",
    "\n",
    "mse = mean_squared_error(y_test, y_predicts_02)\n",
    "print('Mean Squared Error :', mse)"
   ]
  },
  {
   "cell_type": "code",
   "execution_count": 44,
   "id": "c917e3b6",
   "metadata": {},
   "outputs": [
    {
     "data": {
      "text/plain": [
       "{'alpha': 10}"
      ]
     },
     "execution_count": 44,
     "metadata": {},
     "output_type": "execute_result"
    }
   ],
   "source": [
    "ridge_model.best_params_"
   ]
  },
  {
   "cell_type": "code",
   "execution_count": 45,
   "id": "b7ee602b",
   "metadata": {},
   "outputs": [
    {
     "data": {
      "text/plain": [
       "-36236837.33231743"
      ]
     },
     "execution_count": 45,
     "metadata": {},
     "output_type": "execute_result"
    }
   ],
   "source": [
    "ridge_model.best_score_"
   ]
  },
  {
   "cell_type": "code",
   "execution_count": 46,
   "id": "f3bde544",
   "metadata": {},
   "outputs": [
    {
     "data": {
      "text/plain": [
       "7"
      ]
     },
     "execution_count": 46,
     "metadata": {},
     "output_type": "execute_result"
    }
   ],
   "source": [
    "ridge_model.best_index_"
   ]
  },
  {
   "cell_type": "code",
   "execution_count": 47,
   "id": "38dccd77",
   "metadata": {},
   "outputs": [
    {
     "data": {
      "text/plain": [
       "11"
      ]
     },
     "execution_count": 47,
     "metadata": {},
     "output_type": "execute_result"
    }
   ],
   "source": [
    "ridge_model.n_features_in_"
   ]
  },
  {
   "cell_type": "raw",
   "id": "dfc7caa2",
   "metadata": {},
   "source": []
  },
  {
   "cell_type": "code",
   "execution_count": 48,
   "id": "bd28cb9e",
   "metadata": {},
   "outputs": [
    {
     "name": "stdout",
     "output_type": "stream",
     "text": [
      "Fitting 10 folds for each of 16 candidates, totalling 160 fits\n"
     ]
    },
    {
     "data": {
      "text/plain": [
       "GridSearchCV(cv=10, estimator=Lasso(),\n",
       "             param_grid={'alpha': [1e-15, 1e-10, 1e-08, 0.001, 0.01, 1, 5, 10,\n",
       "                                   20, 30, 35, 40, 45, 50, 55, 100]},\n",
       "             return_train_score=True, scoring='neg_mean_squared_error',\n",
       "             verbose=1)"
      ]
     },
     "execution_count": 48,
     "metadata": {},
     "output_type": "execute_result"
    }
   ],
   "source": [
    "#Lasso regression\n",
    "from sklearn.linear_model import Lasso\n",
    "\n",
    "lasso = Lasso()\n",
    "parameters = {'alpha':[1e-15,1e-10,1e-8,1e-3,1e-2,1,5,10,20,30,35,40,45,50,55,100]}\n",
    "lasso_regressor = GridSearchCV(lasso, parameters, scoring='neg_mean_squared_error', cv=10,\n",
    "                              verbose=1, return_train_score=True)\n",
    "lasso_model = lasso_regressor.fit(scaled_x_train, y_train)\n",
    "lasso_model"
   ]
  },
  {
   "cell_type": "code",
   "execution_count": 49,
   "id": "925ab4b2",
   "metadata": {},
   "outputs": [
    {
     "data": {
      "text/plain": [
       "array([ 8799.67485475,  7063.8368275 , 36429.60977203,  9181.54077289,\n",
       "       26562.54796712, 10941.23019105,   344.73437138, 16707.12951695,\n",
       "        1340.59884911, 10882.62634143, 27884.73459753,  9138.48063813,\n",
       "        5365.61274379, 37601.9216826 , 39786.36959442, 36462.79571531,\n",
       "       14934.90953511, 35418.62991082,  9208.32400939, 31077.76583845,\n",
       "        3843.67251855, 10268.95020465,  2833.80725135,  6971.47268349,\n",
       "       10956.21093607, 12860.84948336, 14777.28759592,  5819.72804619,\n",
       "        9762.53706821,  2427.60578914,  9074.10158807, 12989.68696327,\n",
       "        4696.33738035,  3261.08337735,  4800.11670796, 12833.01603931,\n",
       "        2381.03583771,  9100.76089941, 32804.86357815, 32160.53025239,\n",
       "        3809.21644037,  4228.45787951, 14290.0601041 , 11475.25925144,\n",
       "        8653.51195148, 12415.13473428,  5008.23370359,  3351.74597053,\n",
       "       34808.47528052,  8983.35622664, 15854.77808358,  2492.30394666,\n",
       "       12018.10307093,  1601.71104339, 13476.15332006, 12279.31566092,\n",
       "        4448.43160762, 31334.92187982, 13631.5702211 , 12787.26488872,\n",
       "       14492.40710754, 10232.68897335, 16278.84149113,  7610.89003716,\n",
       "       11777.14385892,  4035.53753965, 26314.06393587, 10831.83760379,\n",
       "        2183.39770738,  6492.23806894, 10482.51840104, 11320.33852192,\n",
       "       11087.54575717,  9098.19960908, 11881.89443979,  6944.93861456,\n",
       "        6878.39163811, 10771.13182357,  6504.73871108,  8893.95275978,\n",
       "        3951.75384574, 36223.30262302,  6575.1782487 , 30075.43356625,\n",
       "       34119.63030455, 34796.49213791,  6869.2503665 , 12782.0960685 ,\n",
       "        9678.39091312, 14399.0482903 , 17240.79591747, 35103.86749407,\n",
       "       32528.85690897,  6017.26107047, 31570.88605598,  9632.0471919 ,\n",
       "       29147.21512657,  3846.81088357, 27666.24580825,  5707.38239408,\n",
       "        5330.71913333,  2356.79378692, 11507.39998499, 15004.59293552,\n",
       "       11774.76645022,  4346.29627842,  9847.73335381, 31635.88191129,\n",
       "         121.37925877, 32575.1047536 ,  3692.43148733,  9988.13566874,\n",
       "       14099.18083887, 31058.67268196, 11291.94894207,  4225.04537009,\n",
       "       13090.88108196, 31619.63641832,  8098.76636335,  3214.45177525,\n",
       "        8254.68544666, 10286.49304253, 14782.93136449,  5775.71540024,\n",
       "        3680.46384848,  9923.96280956, 10857.46300605, 10989.84041459,\n",
       "       14485.56936517,  7444.81999566,  5610.71088354,  9018.0236069 ,\n",
       "        9198.19236112, 12349.64239535,  8694.02301689, 15468.02090664,\n",
       "        8324.69857397, 31795.08619041, 35169.39384849, 31151.12651309,\n",
       "        6066.87868684, 12489.04143571,  6145.49087292, 14147.21971103,\n",
       "        2812.31427133, 32798.92481114,  6102.72480849,  5478.59211565,\n",
       "       13839.40483621,  7252.7685962 , 37727.09769595,  3146.57352796,\n",
       "        5925.7045283 , 31092.76860917, 11236.50597396,  8398.2831686 ,\n",
       "       14718.38205586,  9882.94556921, 26853.8813336 , 32859.66862342,\n",
       "       14227.48079166,  1681.46843405, 13394.73130421,  2362.37510229,\n",
       "        5513.3219491 , 11401.91218768, 39595.5992414 , 36005.1501678 ,\n",
       "       33425.9046767 ,  4331.10462046,  7894.98197007,  8908.18539327,\n",
       "       12210.24335499,  4800.08667302,  2548.92676297, 31850.56919688,\n",
       "       25202.12218914, 17438.90531558, 25993.3072909 , 10240.49936326,\n",
       "       36810.47171436,  -284.83832322,  6853.55491691,  8015.5476092 ,\n",
       "        4185.74066914,  5063.02014019,  5832.42448665,  4778.52983772,\n",
       "       14955.188741  , 11150.71002014,  6912.56144477,  2568.4583313 ,\n",
       "        1684.57345271, 31614.32605721, 16404.49108246, 12096.96180228,\n",
       "        1288.72734834, 12271.545512  ,  1662.13274888,  9207.70520997,\n",
       "        2038.04979099, 33522.46750229, 10582.49884727,  2474.40714728,\n",
       "       25424.37983266, 26234.12398081,  9483.72037881,  1645.23762683,\n",
       "       13256.36697545,  1619.58441499, 10930.26404303, 10717.37429825,\n",
       "       16335.34007798, 26713.87500491,  7009.32316496,  5233.91377906,\n",
       "        5965.23973958, 13070.53841773, 11347.26329931,  8363.91248098,\n",
       "        5053.7423255 , 12123.71979121, 13410.61262962, 35163.54897169,\n",
       "        4160.57963223, 28692.77589761,  -282.68071627,  2912.6568549 ,\n",
       "       11112.23033805, 15169.24881234,  5325.9951534 ,  7080.01504817,\n",
       "        4156.98243864, 31350.3161537 ,  7425.49731754, 12461.78706482,\n",
       "        5406.36752953,  9871.98381943, 35643.29999579,  4601.37721755,\n",
       "        9828.10898525, 30850.21945394,  5680.40008428,  4706.0065726 ,\n",
       "        1190.6382483 ,  4847.65909649,  4824.35875875,  6806.22843913,\n",
       "       17922.45040977, -1256.44082423,  2834.24978144, 10672.59037653,\n",
       "        3664.61336053, 10302.20481452,  3614.96300988,  5185.7575967 ,\n",
       "       12805.63194294,  6063.54974818,  8354.03968378,  7233.15172216,\n",
       "        8588.97894133, 10595.25944731, 27633.36347648, 38696.92639603,\n",
       "       11764.20488977,  7612.48739005, 40321.14958379, 12506.99718643,\n",
       "        7029.11368604,  8418.34646374,  9413.4085725 , 10656.55258993,\n",
       "        9860.85008824, 17498.88449099,  1658.50162936, 23378.52928528,\n",
       "       12321.49534417, 32548.28228126,  5120.21330273, 13096.16382   ,\n",
       "       10346.67221934, 17524.1062869 ,  9799.73350707, 11326.5823964 ,\n",
       "       31966.34858159,  3415.86987399, 13560.89945547, 38646.54994311,\n",
       "        5452.84629008,  6042.93031724,  3444.57306097, 11786.67562854,\n",
       "       25143.29441951, 13506.54792886,  9002.38100402, 10111.66188335,\n",
       "       13290.80312771,  1556.42514983,  2782.36587319, 30366.91308227,\n",
       "       30010.69568246, 13260.93710868,  3531.78699343, 24999.04016606,\n",
       "       13355.65013413, 30426.80987856,  3531.32054476, 38566.98524585,\n",
       "       10937.25893132,  5016.19885612,  6981.47360113,  2702.18987101,\n",
       "       25614.35630858, 14682.76996322,  1077.19903493, 12809.44593895,\n",
       "       12766.55077285, 14724.86845901, 34303.80844752, 13988.39529837,\n",
       "       31481.02495221, 10068.81585168, 17965.17412564,  6264.72811925,\n",
       "        9103.38104722,  9538.41461938, 15004.47552365,  9487.68203207,\n",
       "        8219.39546082, 15188.92914473, 12758.56170174, 14575.09794104,\n",
       "        7729.33953054, 25944.37566141,  9373.5597541 ,  1981.51315996,\n",
       "        4440.86045497, 14256.04655601, 35243.72497387,  9856.86612576,\n",
       "       12736.34491791,  5354.12997579,  4775.51108917,  4146.76841125,\n",
       "        2870.56685877,  8911.77797818,  7239.4882952 ,  2812.39665045,\n",
       "       13021.83819496,  8887.27347279,  6194.45253734,  1226.87455587,\n",
       "        9835.72178561,  5181.03861458, 32263.68816607, 28208.15704249,\n",
       "       36583.21652214,  6081.48158032,  8753.5711733 ,  8568.99704409,\n",
       "        4010.88299371, 31237.56038975,  7077.96985528, 28282.59086205,\n",
       "       35257.89152671,  7254.50368383, 13314.446305  ,  9499.50320533,\n",
       "        8330.00162707, 12417.20703551, 29891.23490526, 17057.18072789,\n",
       "       11336.65887557,  3971.2307597 ,  -481.04494888, 12131.90394296,\n",
       "       30799.48686662, 12971.17287994, 11489.8109924 ,  7747.90096024,\n",
       "        3604.59153227,  7582.31919016,  7807.58065412, 10770.64824997,\n",
       "       33071.05490553, 38919.77901427, 12327.73341832,  8347.36319779,\n",
       "       16093.63464732, 14925.17426222,  9662.52049925,  9549.54954222,\n",
       "        8562.65316304,  3106.22522661, 10447.49768739,  4241.18855801,\n",
       "       11119.29930843, 15678.22893778,  6874.97663978,  2266.34980383,\n",
       "       14510.56755318,   726.94663092, 13797.60983853,  8824.32431805,\n",
       "       13090.58639561, 35708.21046055, 32954.96131412, 34969.14089199,\n",
       "        6130.16187716,  5974.2009357 , 16178.89608546,  7993.81578106,\n",
       "       37133.01190014,  5379.20665193,  7950.9795663 , 10328.97592391,\n",
       "       30021.88866026,  4928.09162735,  3475.00783372, 16253.74280574,\n",
       "        3642.25892681,  6270.08582673, 10055.68138812,  -250.87981864,\n",
       "       29096.67391542,  8286.09035805, 10033.47471331,  5920.58955994,\n",
       "        7815.85578632, 11586.63516578, 28888.77782834,  9567.88545468,\n",
       "       11018.14372434,  6485.72163084,  4342.1876731 ,  1627.58579192,\n",
       "        8009.07001781, 11062.08511314, 10641.40078381,  8946.18171219,\n",
       "        5996.57056108,  4471.43606737])"
      ]
     },
     "execution_count": 49,
     "metadata": {},
     "output_type": "execute_result"
    }
   ],
   "source": [
    "#Predictions\n",
    "y_predicts_03 = lasso_model.predict(scaled_x_test)\n",
    "y_predicts_03"
   ]
  },
  {
   "cell_type": "code",
   "execution_count": 50,
   "id": "2d51de51",
   "metadata": {},
   "outputs": [
    {
     "data": {
      "text/plain": [
       "-36162274.59883115"
      ]
     },
     "execution_count": 50,
     "metadata": {},
     "output_type": "execute_result"
    }
   ],
   "source": [
    "lasso_model.best_score_"
   ]
  },
  {
   "cell_type": "code",
   "execution_count": 51,
   "id": "a24f0924",
   "metadata": {},
   "outputs": [
    {
     "name": "stdout",
     "output_type": "stream",
     "text": [
      "R Squared value : 0.7619190030333813\n",
      "Mean Absolute Error : 4163.65263376811\n",
      "Mean Squared Error : 34238966.78667702\n"
     ]
    }
   ],
   "source": [
    "#Evaluation\n",
    "\n",
    "score = r2_score(y_test, y_predicts_03)\n",
    "print('R Squared value :', score)\n",
    "\n",
    "mae = mean_absolute_error(y_test, y_predicts_03)\n",
    "print('Mean Absolute Error :', mae)\n",
    "\n",
    "mse = mean_squared_error(y_test, y_predicts_03)\n",
    "print('Mean Squared Error :', mse)"
   ]
  },
  {
   "cell_type": "code",
   "execution_count": 52,
   "id": "351ffe12",
   "metadata": {},
   "outputs": [],
   "source": [
    "results = pd.DataFrame(lasso_model.cv_results_)"
   ]
  },
  {
   "cell_type": "code",
   "execution_count": 53,
   "id": "1a5318f2",
   "metadata": {},
   "outputs": [
    {
     "data": {
      "text/plain": [
       "Lasso(alpha=100)"
      ]
     },
     "execution_count": 53,
     "metadata": {},
     "output_type": "execute_result"
    }
   ],
   "source": [
    "lasso_model.best_estimator_"
   ]
  },
  {
   "cell_type": "code",
   "execution_count": 54,
   "id": "69f0fa9b",
   "metadata": {},
   "outputs": [
    {
     "data": {
      "text/plain": [
       "{'alpha': 100}"
      ]
     },
     "execution_count": 54,
     "metadata": {},
     "output_type": "execute_result"
    }
   ],
   "source": [
    "lasso_model.best_params_"
   ]
  },
  {
   "cell_type": "code",
   "execution_count": 55,
   "id": "91796ea0",
   "metadata": {},
   "outputs": [
    {
     "data": {
      "text/plain": [
       "-36162274.59883115"
      ]
     },
     "execution_count": 55,
     "metadata": {},
     "output_type": "execute_result"
    }
   ],
   "source": [
    "lasso_model.best_score_"
   ]
  },
  {
   "cell_type": "code",
   "execution_count": 56,
   "id": "8dd38259",
   "metadata": {},
   "outputs": [
    {
     "data": {
      "image/png": "[encoded data removed]",
      "text/plain": [
       "<Figure size 432x288 with 1 Axes>"
      ]
     },
     "metadata": {
      "needs_background": "light"
     },
     "output_type": "display_data"
    }
   ],
   "source": [
    "sns.distplot(y_test-y_predicts_03)\n",
    "plt.show()"
   ]
  },
  {
   "cell_type": "code",
   "execution_count": null,
   "id": "ff0c695d",
   "metadata": {},
   "outputs": [],
   "source": []
  },
  {
   "cell_type": "code",
   "execution_count": 57,
   "id": "079b6f2e",
   "metadata": {},
   "outputs": [
    {
     "name": "stdout",
     "output_type": "stream",
     "text": [
      "Fitting 10 folds for each of 12 candidates, totalling 120 fits\n"
     ]
    },
    {
     "data": {
      "text/plain": [
       "GridSearchCV(cv=KFold(n_splits=10, random_state=1, shuffle=True),\n",
       "             estimator=RFE(estimator=LinearRegression()),\n",
       "             param_grid=[{'n_features_to_select': [0, 1, 2, 3, 4, 5, 6, 7, 8, 9,\n",
       "                                                   10, 11]}],\n",
       "             return_train_score=True, scoring='r2', verbose=1)"
      ]
     },
     "execution_count": 57,
     "metadata": {},
     "output_type": "execute_result"
    }
   ],
   "source": [
    "#Hyper parameter tuning\n",
    "\n",
    "from sklearn.feature_selection import RFE\n",
    "\n",
    "k_folds = KFold(n_splits=10, shuffle=True, random_state=1)\n",
    "\n",
    "l_r = LinearRegression()\n",
    "l_r.fit(scaled_x_train, y_train)\n",
    "\n",
    "model = RFE(l_r)\n",
    "\n",
    "parameters = [{'n_features_to_select':list(range(12))}]\n",
    "\n",
    "final_model = GridSearchCV(model, param_grid=parameters, scoring='r2',\n",
    "                          verbose=1, return_train_score=True, cv=k_folds)\n",
    "final_model.fit(scaled_x_train, y_train)\n",
    "final_model"
   ]
  },
  {
   "cell_type": "code",
   "execution_count": 58,
   "id": "921969f1",
   "metadata": {},
   "outputs": [],
   "source": [
    "y_predicts_04 = final_model.predict(scaled_x_test)"
   ]
  },
  {
   "cell_type": "code",
   "execution_count": 59,
   "id": "fff85bd0",
   "metadata": {},
   "outputs": [
    {
     "name": "stdout",
     "output_type": "stream",
     "text": [
      "R Squared value : 0.7614270012051036\n",
      "Mean Absolute Error : 4177.755693184493\n",
      "Mean Squared Error : 34309722.682662055\n"
     ]
    }
   ],
   "source": [
    "#Evaluation\n",
    "\n",
    "score = r2_score(y_test, y_predicts_04)\n",
    "print('R Squared value :', score)\n",
    "\n",
    "mae = mean_absolute_error(y_test, y_predicts_04)\n",
    "print('Mean Absolute Error :', mae)\n",
    "\n",
    "mse = mean_squared_error(y_test, y_predicts_04)\n",
    "print('Mean Squared Error :', mse)"
   ]
  },
  {
   "cell_type": "code",
   "execution_count": 60,
   "id": "f3151a39",
   "metadata": {},
   "outputs": [
    {
     "data": {
      "text/html": [
       "<div>\n",
       "<style scoped>\n",
       "    .dataframe tbody tr th:only-of-type {\n",
       "        vertical-align: middle;\n",
       "    }\n",
       "\n",
       "    .dataframe tbody tr th {\n",
       "        vertical-align: top;\n",
       "    }\n",
       "\n",
       "    .dataframe thead th {\n",
       "        text-align: right;\n",
       "    }\n",
       "</style>\n",
       "<table border=\"1\" class=\"dataframe\">\n",
       "  <thead>\n",
       "    <tr style=\"text-align: right;\">\n",
       "      <th></th>\n",
       "      <th>mean_fit_time</th>\n",
       "      <th>std_fit_time</th>\n",
       "      <th>mean_score_time</th>\n",
       "      <th>std_score_time</th>\n",
       "      <th>param_n_features_to_select</th>\n",
       "      <th>params</th>\n",
       "      <th>split0_test_score</th>\n",
       "      <th>split1_test_score</th>\n",
       "      <th>split2_test_score</th>\n",
       "      <th>split3_test_score</th>\n",
       "      <th>...</th>\n",
       "      <th>split2_train_score</th>\n",
       "      <th>split3_train_score</th>\n",
       "      <th>split4_train_score</th>\n",
       "      <th>split5_train_score</th>\n",
       "      <th>split6_train_score</th>\n",
       "      <th>split7_train_score</th>\n",
       "      <th>split8_train_score</th>\n",
       "      <th>split9_train_score</th>\n",
       "      <th>mean_train_score</th>\n",
       "      <th>std_train_score</th>\n",
       "    </tr>\n",
       "  </thead>\n",
       "  <tbody>\n",
       "    <tr>\n",
       "      <th>0</th>\n",
       "      <td>0.006910</td>\n",
       "      <td>0.007820</td>\n",
       "      <td>0.000000</td>\n",
       "      <td>0.000000</td>\n",
       "      <td>0</td>\n",
       "      <td>{'n_features_to_select': 0}</td>\n",
       "      <td>NaN</td>\n",
       "      <td>NaN</td>\n",
       "      <td>NaN</td>\n",
       "      <td>NaN</td>\n",
       "      <td>...</td>\n",
       "      <td>NaN</td>\n",
       "      <td>NaN</td>\n",
       "      <td>NaN</td>\n",
       "      <td>NaN</td>\n",
       "      <td>NaN</td>\n",
       "      <td>NaN</td>\n",
       "      <td>NaN</td>\n",
       "      <td>NaN</td>\n",
       "      <td>NaN</td>\n",
       "      <td>NaN</td>\n",
       "    </tr>\n",
       "    <tr>\n",
       "      <th>1</th>\n",
       "      <td>0.006433</td>\n",
       "      <td>0.007880</td>\n",
       "      <td>0.000000</td>\n",
       "      <td>0.000000</td>\n",
       "      <td>1</td>\n",
       "      <td>{'n_features_to_select': 1}</td>\n",
       "      <td>0.568745</td>\n",
       "      <td>0.717744</td>\n",
       "      <td>0.646637</td>\n",
       "      <td>0.516389</td>\n",
       "      <td>...</td>\n",
       "      <td>0.610132</td>\n",
       "      <td>0.622879</td>\n",
       "      <td>0.619154</td>\n",
       "      <td>0.608809</td>\n",
       "      <td>0.606076</td>\n",
       "      <td>0.630596</td>\n",
       "      <td>0.608623</td>\n",
       "      <td>0.623291</td>\n",
       "      <td>0.613736</td>\n",
       "      <td>0.010776</td>\n",
       "    </tr>\n",
       "    <tr>\n",
       "      <th>2</th>\n",
       "      <td>0.006261</td>\n",
       "      <td>0.007135</td>\n",
       "      <td>0.000000</td>\n",
       "      <td>0.000000</td>\n",
       "      <td>2</td>\n",
       "      <td>{'n_features_to_select': 2}</td>\n",
       "      <td>0.568745</td>\n",
       "      <td>0.717744</td>\n",
       "      <td>0.646637</td>\n",
       "      <td>0.516389</td>\n",
       "      <td>...</td>\n",
       "      <td>0.610132</td>\n",
       "      <td>0.622879</td>\n",
       "      <td>0.619154</td>\n",
       "      <td>0.608809</td>\n",
       "      <td>0.606076</td>\n",
       "      <td>0.630596</td>\n",
       "      <td>0.608623</td>\n",
       "      <td>0.623291</td>\n",
       "      <td>0.613736</td>\n",
       "      <td>0.010776</td>\n",
       "    </tr>\n",
       "    <tr>\n",
       "      <th>3</th>\n",
       "      <td>0.003765</td>\n",
       "      <td>0.005160</td>\n",
       "      <td>0.000000</td>\n",
       "      <td>0.000000</td>\n",
       "      <td>3</td>\n",
       "      <td>{'n_features_to_select': 3}</td>\n",
       "      <td>0.690412</td>\n",
       "      <td>0.769285</td>\n",
       "      <td>0.765864</td>\n",
       "      <td>0.632217</td>\n",
       "      <td>...</td>\n",
       "      <td>0.718458</td>\n",
       "      <td>0.731768</td>\n",
       "      <td>0.720922</td>\n",
       "      <td>0.715696</td>\n",
       "      <td>0.723118</td>\n",
       "      <td>0.733470</td>\n",
       "      <td>0.721143</td>\n",
       "      <td>0.729941</td>\n",
       "      <td>0.723191</td>\n",
       "      <td>0.006714</td>\n",
       "    </tr>\n",
       "    <tr>\n",
       "      <th>4</th>\n",
       "      <td>0.001573</td>\n",
       "      <td>0.004719</td>\n",
       "      <td>0.003180</td>\n",
       "      <td>0.006361</td>\n",
       "      <td>4</td>\n",
       "      <td>{'n_features_to_select': 4}</td>\n",
       "      <td>0.694755</td>\n",
       "      <td>0.811139</td>\n",
       "      <td>0.790680</td>\n",
       "      <td>0.665966</td>\n",
       "      <td>...</td>\n",
       "      <td>0.745051</td>\n",
       "      <td>0.757480</td>\n",
       "      <td>0.747841</td>\n",
       "      <td>0.746049</td>\n",
       "      <td>0.746819</td>\n",
       "      <td>0.757164</td>\n",
       "      <td>0.747785</td>\n",
       "      <td>0.758096</td>\n",
       "      <td>0.749483</td>\n",
       "      <td>0.006685</td>\n",
       "    </tr>\n",
       "    <tr>\n",
       "      <th>5</th>\n",
       "      <td>0.001645</td>\n",
       "      <td>0.004934</td>\n",
       "      <td>0.001577</td>\n",
       "      <td>0.004730</td>\n",
       "      <td>5</td>\n",
       "      <td>{'n_features_to_select': 5}</td>\n",
       "      <td>0.695410</td>\n",
       "      <td>0.814733</td>\n",
       "      <td>0.792999</td>\n",
       "      <td>0.672080</td>\n",
       "      <td>...</td>\n",
       "      <td>0.746466</td>\n",
       "      <td>0.758463</td>\n",
       "      <td>0.749817</td>\n",
       "      <td>0.747408</td>\n",
       "      <td>0.748983</td>\n",
       "      <td>0.758915</td>\n",
       "      <td>0.748923</td>\n",
       "      <td>0.758422</td>\n",
       "      <td>0.750957</td>\n",
       "      <td>0.006667</td>\n",
       "    </tr>\n",
       "    <tr>\n",
       "      <th>6</th>\n",
       "      <td>0.003193</td>\n",
       "      <td>0.006387</td>\n",
       "      <td>0.000000</td>\n",
       "      <td>0.000000</td>\n",
       "      <td>6</td>\n",
       "      <td>{'n_features_to_select': 6}</td>\n",
       "      <td>0.690143</td>\n",
       "      <td>0.815476</td>\n",
       "      <td>0.793044</td>\n",
       "      <td>0.669030</td>\n",
       "      <td>...</td>\n",
       "      <td>0.746633</td>\n",
       "      <td>0.759041</td>\n",
       "      <td>0.750004</td>\n",
       "      <td>0.748416</td>\n",
       "      <td>0.749870</td>\n",
       "      <td>0.759943</td>\n",
       "      <td>0.749566</td>\n",
       "      <td>0.758944</td>\n",
       "      <td>0.751533</td>\n",
       "      <td>0.006792</td>\n",
       "    </tr>\n",
       "    <tr>\n",
       "      <th>7</th>\n",
       "      <td>0.004715</td>\n",
       "      <td>0.007202</td>\n",
       "      <td>0.000000</td>\n",
       "      <td>0.000000</td>\n",
       "      <td>7</td>\n",
       "      <td>{'n_features_to_select': 7}</td>\n",
       "      <td>0.687827</td>\n",
       "      <td>0.815373</td>\n",
       "      <td>0.795517</td>\n",
       "      <td>0.670962</td>\n",
       "      <td>...</td>\n",
       "      <td>0.746929</td>\n",
       "      <td>0.759231</td>\n",
       "      <td>0.750272</td>\n",
       "      <td>0.748655</td>\n",
       "      <td>0.748131</td>\n",
       "      <td>0.760059</td>\n",
       "      <td>0.749946</td>\n",
       "      <td>0.759065</td>\n",
       "      <td>0.751647</td>\n",
       "      <td>0.006810</td>\n",
       "    </tr>\n",
       "    <tr>\n",
       "      <th>8</th>\n",
       "      <td>0.003155</td>\n",
       "      <td>0.006310</td>\n",
       "      <td>0.000000</td>\n",
       "      <td>0.000000</td>\n",
       "      <td>8</td>\n",
       "      <td>{'n_features_to_select': 8}</td>\n",
       "      <td>0.688161</td>\n",
       "      <td>0.815761</td>\n",
       "      <td>0.793919</td>\n",
       "      <td>0.670880</td>\n",
       "      <td>...</td>\n",
       "      <td>0.747057</td>\n",
       "      <td>0.759262</td>\n",
       "      <td>0.750325</td>\n",
       "      <td>0.748673</td>\n",
       "      <td>0.749592</td>\n",
       "      <td>0.760096</td>\n",
       "      <td>0.750072</td>\n",
       "      <td>0.759065</td>\n",
       "      <td>0.751845</td>\n",
       "      <td>0.006746</td>\n",
       "    </tr>\n",
       "    <tr>\n",
       "      <th>9</th>\n",
       "      <td>0.000000</td>\n",
       "      <td>0.000000</td>\n",
       "      <td>0.001579</td>\n",
       "      <td>0.004736</td>\n",
       "      <td>9</td>\n",
       "      <td>{'n_features_to_select': 9}</td>\n",
       "      <td>0.686505</td>\n",
       "      <td>0.815761</td>\n",
       "      <td>0.794554</td>\n",
       "      <td>0.670880</td>\n",
       "      <td>...</td>\n",
       "      <td>0.747074</td>\n",
       "      <td>0.759262</td>\n",
       "      <td>0.750325</td>\n",
       "      <td>0.748681</td>\n",
       "      <td>0.750131</td>\n",
       "      <td>0.760114</td>\n",
       "      <td>0.750178</td>\n",
       "      <td>0.759089</td>\n",
       "      <td>0.751928</td>\n",
       "      <td>0.006739</td>\n",
       "    </tr>\n",
       "    <tr>\n",
       "      <th>10</th>\n",
       "      <td>0.003166</td>\n",
       "      <td>0.006332</td>\n",
       "      <td>0.000050</td>\n",
       "      <td>0.000149</td>\n",
       "      <td>10</td>\n",
       "      <td>{'n_features_to_select': 10}</td>\n",
       "      <td>0.686505</td>\n",
       "      <td>0.815710</td>\n",
       "      <td>0.794554</td>\n",
       "      <td>0.671035</td>\n",
       "      <td>...</td>\n",
       "      <td>0.747074</td>\n",
       "      <td>0.759263</td>\n",
       "      <td>0.750337</td>\n",
       "      <td>0.748681</td>\n",
       "      <td>0.750131</td>\n",
       "      <td>0.760114</td>\n",
       "      <td>0.750178</td>\n",
       "      <td>0.759089</td>\n",
       "      <td>0.751929</td>\n",
       "      <td>0.006739</td>\n",
       "    </tr>\n",
       "    <tr>\n",
       "      <th>11</th>\n",
       "      <td>0.001622</td>\n",
       "      <td>0.004867</td>\n",
       "      <td>0.000000</td>\n",
       "      <td>0.000000</td>\n",
       "      <td>11</td>\n",
       "      <td>{'n_features_to_select': 11}</td>\n",
       "      <td>0.686505</td>\n",
       "      <td>0.815710</td>\n",
       "      <td>0.794554</td>\n",
       "      <td>0.671035</td>\n",
       "      <td>...</td>\n",
       "      <td>0.747074</td>\n",
       "      <td>0.759263</td>\n",
       "      <td>0.750337</td>\n",
       "      <td>0.748681</td>\n",
       "      <td>0.750131</td>\n",
       "      <td>0.760114</td>\n",
       "      <td>0.750178</td>\n",
       "      <td>0.760819</td>\n",
       "      <td>0.752102</td>\n",
       "      <td>0.006940</td>\n",
       "    </tr>\n",
       "  </tbody>\n",
       "</table>\n",
       "<p>12 rows × 31 columns</p>\n",
       "</div>"
      ],
      "text/plain": [
       "    mean_fit_time  std_fit_time  mean_score_time  std_score_time  \\\n",
       "0        0.006910      0.007820         0.000000        0.000000   \n",
       "1        0.006433      0.007880         0.000000        0.000000   \n",
       "2        0.006261      0.007135         0.000000        0.000000   \n",
       "3        0.003765      0.005160         0.000000        0.000000   \n",
       "4        0.001573      0.004719         0.003180        0.006361   \n",
       "5        0.001645      0.004934         0.001577        0.004730   \n",
       "6        0.003193      0.006387         0.000000        0.000000   \n",
       "7        0.004715      0.007202         0.000000        0.000000   \n",
       "8        0.003155      0.006310         0.000000        0.000000   \n",
       "9        0.000000      0.000000         0.001579        0.004736   \n",
       "10       0.003166      0.006332         0.000050        0.000149   \n",
       "11       0.001622      0.004867         0.000000        0.000000   \n",
       "\n",
       "   param_n_features_to_select                        params  \\\n",
       "0                           0   {'n_features_to_select': 0}   \n",
       "1                           1   {'n_features_to_select': 1}   \n",
       "2                           2   {'n_features_to_select': 2}   \n",
       "3                           3   {'n_features_to_select': 3}   \n",
       "4                           4   {'n_features_to_select': 4}   \n",
       "5                           5   {'n_features_to_select': 5}   \n",
       "6                           6   {'n_features_to_select': 6}   \n",
       "7                           7   {'n_features_to_select': 7}   \n",
       "8                           8   {'n_features_to_select': 8}   \n",
       "9                           9   {'n_features_to_select': 9}   \n",
       "10                         10  {'n_features_to_select': 10}   \n",
       "11                         11  {'n_features_to_select': 11}   \n",
       "\n",
       "    split0_test_score  split1_test_score  split2_test_score  \\\n",
       "0                 NaN                NaN                NaN   \n",
       "1            0.568745           0.717744           0.646637   \n",
       "2            0.568745           0.717744           0.646637   \n",
       "3            0.690412           0.769285           0.765864   \n",
       "4            0.694755           0.811139           0.790680   \n",
       "5            0.695410           0.814733           0.792999   \n",
       "6            0.690143           0.815476           0.793044   \n",
       "7            0.687827           0.815373           0.795517   \n",
       "8            0.688161           0.815761           0.793919   \n",
       "9            0.686505           0.815761           0.794554   \n",
       "10           0.686505           0.815710           0.794554   \n",
       "11           0.686505           0.815710           0.794554   \n",
       "\n",
       "    split3_test_score  ...  split2_train_score  split3_train_score  \\\n",
       "0                 NaN  ...                 NaN                 NaN   \n",
       "1            0.516389  ...            0.610132            0.622879   \n",
       "2            0.516389  ...            0.610132            0.622879   \n",
       "3            0.632217  ...            0.718458            0.731768   \n",
       "4            0.665966  ...            0.745051            0.757480   \n",
       "5            0.672080  ...            0.746466            0.758463   \n",
       "6            0.669030  ...            0.746633            0.759041   \n",
       "7            0.670962  ...            0.746929            0.759231   \n",
       "8            0.670880  ...            0.747057            0.759262   \n",
       "9            0.670880  ...            0.747074            0.759262   \n",
       "10           0.671035  ...            0.747074            0.759263   \n",
       "11           0.671035  ...            0.747074            0.759263   \n",
       "\n",
       "    split4_train_score  split5_train_score  split6_train_score  \\\n",
       "0                  NaN                 NaN                 NaN   \n",
       "1             0.619154            0.608809            0.606076   \n",
       "2             0.619154            0.608809            0.606076   \n",
       "3             0.720922            0.715696            0.723118   \n",
       "4             0.747841            0.746049            0.746819   \n",
       "5             0.749817            0.747408            0.748983   \n",
       "6             0.750004            0.748416            0.749870   \n",
       "7             0.750272            0.748655            0.748131   \n",
       "8             0.750325            0.748673            0.749592   \n",
       "9             0.750325            0.748681            0.750131   \n",
       "10            0.750337            0.748681            0.750131   \n",
       "11            0.750337            0.748681            0.750131   \n",
       "\n",
       "    split7_train_score  split8_train_score  split9_train_score  \\\n",
       "0                  NaN                 NaN                 NaN   \n",
       "1             0.630596            0.608623            0.623291   \n",
       "2             0.630596            0.608623            0.623291   \n",
       "3             0.733470            0.721143            0.729941   \n",
       "4             0.757164            0.747785            0.758096   \n",
       "5             0.758915            0.748923            0.758422   \n",
       "6             0.759943            0.749566            0.758944   \n",
       "7             0.760059            0.749946            0.759065   \n",
       "8             0.760096            0.750072            0.759065   \n",
       "9             0.760114            0.750178            0.759089   \n",
       "10            0.760114            0.750178            0.759089   \n",
       "11            0.760114            0.750178            0.760819   \n",
       "\n",
       "    mean_train_score  std_train_score  \n",
       "0                NaN              NaN  \n",
       "1           0.613736         0.010776  \n",
       "2           0.613736         0.010776  \n",
       "3           0.723191         0.006714  \n",
       "4           0.749483         0.006685  \n",
       "5           0.750957         0.006667  \n",
       "6           0.751533         0.006792  \n",
       "7           0.751647         0.006810  \n",
       "8           0.751845         0.006746  \n",
       "9           0.751928         0.006739  \n",
       "10          0.751929         0.006739  \n",
       "11          0.752102         0.006940  \n",
       "\n",
       "[12 rows x 31 columns]"
      ]
     },
     "execution_count": 60,
     "metadata": {},
     "output_type": "execute_result"
    }
   ],
   "source": [
    "results = pd.DataFrame(final_model.cv_results_)\n",
    "results"
   ]
  },
  {
   "cell_type": "code",
   "execution_count": 61,
   "id": "cc9a3823",
   "metadata": {},
   "outputs": [
    {
     "data": {
      "image/png": "[encoded data removed]",
      "text/plain": [
       "<Figure size 432x288 with 1 Axes>"
      ]
     },
     "metadata": {
      "needs_background": "light"
     },
     "output_type": "display_data"
    }
   ],
   "source": [
    "plt.plot(results['param_n_features_to_select'], results['mean_test_score'])\n",
    "plt.plot(results['param_n_features_to_select'], results['mean_train_score'])\n",
    "plt.xlabel('n_features')\n",
    "plt.ylabel('R Squared')\n",
    "plt.legend(['test', 'train'], loc = 'lower right')\n",
    "plt.show()"
   ]
  },
  {
   "cell_type": "code",
   "execution_count": 62,
   "id": "32da79ba",
   "metadata": {},
   "outputs": [
    {
     "data": {
      "text/plain": [
       "{'cv': KFold(n_splits=10, random_state=1, shuffle=True),\n",
       " 'error_score': nan,\n",
       " 'estimator__estimator__copy_X': True,\n",
       " 'estimator__estimator__fit_intercept': True,\n",
       " 'estimator__estimator__n_jobs': None,\n",
       " 'estimator__estimator__normalize': 'deprecated',\n",
       " 'estimator__estimator__positive': False,\n",
       " 'estimator__estimator': LinearRegression(),\n",
       " 'estimator__importance_getter': 'auto',\n",
       " 'estimator__n_features_to_select': None,\n",
       " 'estimator__step': 1,\n",
       " 'estimator__verbose': 0,\n",
       " 'estimator': RFE(estimator=LinearRegression()),\n",
       " 'n_jobs': None,\n",
       " 'param_grid': [{'n_features_to_select': [0,\n",
       "    1,\n",
       "    2,\n",
       "    3,\n",
       "    4,\n",
       "    5,\n",
       "    6,\n",
       "    7,\n",
       "    8,\n",
       "    9,\n",
       "    10,\n",
       "    11]}],\n",
       " 'pre_dispatch': '2*n_jobs',\n",
       " 'refit': True,\n",
       " 'return_train_score': True,\n",
       " 'scoring': 'r2',\n",
       " 'verbose': 1}"
      ]
     },
     "execution_count": 62,
     "metadata": {},
     "output_type": "execute_result"
    }
   ],
   "source": [
    "final_model.get_params()"
   ]
  },
  {
   "cell_type": "code",
   "execution_count": null,
   "id": "30f8236f",
   "metadata": {},
   "outputs": [],
   "source": []
  },
  {
   "cell_type": "code",
   "execution_count": 63,
   "id": "fee95b01",
   "metadata": {},
   "outputs": [],
   "source": [
    "#Final model\n",
    "reg = LinearRegression()\n",
    "reg.fit(scaled_x_train, y_train)\n",
    "\n",
    "model = RFE(reg, n_features_to_select=6)\n",
    "final_model = model.fit(scaled_x_train, y_train)"
   ]
  },
  {
   "cell_type": "code",
   "execution_count": 64,
   "id": "9f29e78c",
   "metadata": {},
   "outputs": [],
   "source": [
    "y_predicts_05 = final_model.predict(scaled_x_test)"
   ]
  },
  {
   "cell_type": "code",
   "execution_count": 65,
   "id": "ae931337",
   "metadata": {},
   "outputs": [
    {
     "name": "stdout",
     "output_type": "stream",
     "text": [
      "R Squared value : 0.7620989912853301\n",
      "Mean Absolute Error : 4163.032247481061\n",
      "Mean Squared Error : 34213082.26897513\n"
     ]
    }
   ],
   "source": [
    "#Evaluation\n",
    "\n",
    "score = r2_score(y_test, y_predicts_05)\n",
    "print('R Squared value :', score)\n",
    "\n",
    "mae = mean_absolute_error(y_test, y_predicts_05)\n",
    "print('Mean Absolute Error :', mae)\n",
    "\n",
    "mse = mean_squared_error(y_test, y_predicts_05)\n",
    "print('Mean Squared Error :', mse)"
   ]
  },
  {
   "cell_type": "code",
   "execution_count": null,
   "id": "d41d99f1",
   "metadata": {},
   "outputs": [],
   "source": []
  }
 ],
 "metadata": {
  "kernelspec": {
   "display_name": "Python 3 (ipykernel)",
   "language": "python",
   "name": "python3"
  },
  "language_info": {
   "codemirror_mode": {
    "name": "ipython",
    "version": 3
   },
   "file_extension": ".py",
   "mimetype": "text/x-python",
   "name": "python",
   "nbconvert_exporter": "python",
   "pygments_lexer": "ipython3",
   "version": "3.9.7"
  }
 },
 "nbformat": 4,
 "nbformat_minor": 5
}
